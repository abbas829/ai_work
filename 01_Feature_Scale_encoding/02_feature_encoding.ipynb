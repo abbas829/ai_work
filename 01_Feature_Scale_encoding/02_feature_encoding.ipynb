{
 "cells": [
  {
   "cell_type": "markdown",
   "metadata": {},
   "source": [
    "# feature Encoding"
   ]
  },
  {
   "cell_type": "markdown",
   "metadata": {},
   "source": [
    "Auther: Tassawar Abbas\n",
    "\n",
    "Email: abbas829@gmail.com\n",
    "\n",
    "[github](https://github.com/abbas829)"
   ]
  },
  {
   "cell_type": "markdown",
   "metadata": {},
   "source": [
    "# Understanding Feature Encoding in Machine Learning\n",
    "\n",
    "In the realm of machine learning, one of the crucial steps in preprocessing data is feature encoding. This process involves converting categorical data into a numerical format, making it suitable for machine learning algorithms. Feature encoding plays a pivotal role in ensuring that models can effectively understand and utilize categorical information. In this article, we'll delve into the various types of encoding techniques, their pros and cons, and why feature encoding is essential in machine learning.\n",
    "\n",
    "## Why Feature Encoding?\n",
    "\n",
    "In real-world datasets, it's common to encounter categorical variables, such as gender, color, or product type. However, most machine learning algorithms are designed to work with numerical data. Thus, it becomes imperative to convert categorical variables into a numeric format. Feature encoding accomplishes this task by transforming categorical data into a numerical representation, enabling algorithms to process and derive insights from them.\n",
    "\n",
    "## Types of Encoding\n",
    "\n",
    "### 1. One-Hot Encoding\n",
    "\n",
    "One-hot encoding is a popular technique where each category is represented as a binary vector. In this approach, each category is assigned a unique binary value, with only one bit set to 1 and the rest set to 0. For example, if we have three categories {red, green, blue}, they would be encoded as [1, 0, 0], [0, 1, 0], and [0, 0, 1] respectively.\n",
    "\n",
    "**Pros:**\n",
    "- Simple to understand and implement.\n",
    "- Preserves all information without imposing any ordinal relationship.\n",
    "\n",
    "**Cons:**\n",
    "- Can lead to high-dimensional feature spaces, especially with large categorical variables.\n",
    "- May introduce multicollinearity, affecting the performance of certain algorithms like linear models.\n",
    "\n",
    "### 2. Label Encoding\n",
    "\n",
    "Label encoding involves assigning a unique integer to each category. Each category is replaced with its corresponding numerical label. For instance, {red, green, blue} might be encoded as {0, 1, 2}.\n",
    "\n",
    "**Pros:**\n",
    "- Efficient, especially for algorithms that can exploit ordinal relationships.\n",
    "- Reduces dimensionality compared to one-hot encoding.\n",
    "\n",
    "**Cons:**\n",
    "- Introduces ordinality where none may exist, which could mislead certain algorithms.\n",
    "- May not be suitable for algorithms that cannot interpret ordinal relationships.\n",
    "\n",
    "### 3. Ordinal Encoding\n",
    "\n",
    "Ordinal encoding is similar to label encoding but takes into account the ordinal relationships between categories. Instead of assigning arbitrary integers, categories are mapped to values based on their order or rank.\n",
    "\n",
    "**Pros:**\n",
    "- Preserves ordinal information, which can be valuable for algorithms that understand ordinality.\n",
    "- More efficient in terms of dimensionality compared to one-hot encoding.\n",
    "\n",
    "**Cons:**\n",
    "- Requires careful consideration of the ordinal relationships between categories.\n",
    "- May not be suitable for categories with no inherent order.\n",
    "\n",
    "## Conclusion\n",
    "\n",
    "Feature encoding is an indispensable step in preprocessing categorical data for machine learning tasks. By converting categorical variables into a numerical format, it enables algorithms to process and extract meaningful insights from diverse datasets. Each encoding technique has its strengths and weaknesses, and the choice of method depends on the specific characteristics of the data and the requirements of the machine learning algorithm.\n",
    "\n",
    "In practice, it's essential to experiment with different encoding techniques and evaluate their impact on model performance to determine the most suitable approach for a given problem. With the right feature encoding strategy, machine learning models can effectively leverage categorical information to make accurate predictions and drive valuable insights.\n",
    "\n"
   ]
  },
  {
   "cell_type": "code",
   "execution_count": 5,
   "metadata": {},
   "outputs": [],
   "source": [
    "# import libraries \n",
    "import pandas as pd\n",
    "from sklearn.preprocessing import LabelEncoder, OrdinalEncoder"
   ]
  },
  {
   "cell_type": "markdown",
   "metadata": {},
   "source": [
    "## 1. One hot encoding"
   ]
  },
  {
   "cell_type": "code",
   "execution_count": 7,
   "metadata": {},
   "outputs": [
    {
     "name": "stdout",
     "output_type": "stream",
     "text": [
      "   Color\n",
      "0    Red\n",
      "1  Green\n",
      "2   Blue\n",
      "3    Red\n",
      "4   Blue\n",
      "   Color_Blue  Color_Green  Color_Red\n",
      "0       False        False       True\n",
      "1       False         True      False\n",
      "2        True        False      False\n",
      "3       False        False       True\n",
      "4        True        False      False\n"
     ]
    }
   ],
   "source": [
    "\n",
    "# Sample data\n",
    "data = {'Color': ['Red', 'Green', 'Blue', 'Red', 'Blue']}\n",
    "df = pd.DataFrame(data)\n",
    "print(df)\n",
    "# One-Hot Encoding,\n",
    "encoded_data = pd.get_dummies(df, columns=['Color'])\n",
    "print(encoded_data)"
   ]
  },
  {
   "cell_type": "markdown",
   "metadata": {},
   "source": [
    "## 2. Label Encoding"
   ]
  },
  {
   "cell_type": "code",
   "execution_count": 8,
   "metadata": {},
   "outputs": [
    {
     "name": "stdout",
     "output_type": "stream",
     "text": [
      "     Animal\n",
      "0       Dog\n",
      "1       Cat\n",
      "2      Bird\n",
      "3       Dog\n",
      "4      Bird\n",
      "5  reptiles\n",
      "     Animal  Animal_encoded\n",
      "0       Dog               2\n",
      "1       Cat               1\n",
      "2      Bird               0\n",
      "3       Dog               2\n",
      "4      Bird               0\n",
      "5  reptiles               3\n"
     ]
    }
   ],
   "source": [
    "\n",
    "# Sample data\n",
    "data = {'Animal': ['Dog', 'Cat', 'Bird', 'Dog', \"Bird\", 'reptiles']}\n",
    "df = pd.DataFrame(data)\n",
    "print(df)\n",
    "\n",
    "# Label Encoding\n",
    "label_encoder = LabelEncoder()\n",
    "df['Animal_encoded'] = label_encoder.fit_transform(df['Animal'])\n",
    "print(df)\n"
   ]
  },
  {
   "cell_type": "markdown",
   "metadata": {},
   "source": [
    "## Ordinal Encoding"
   ]
  },
  {
   "cell_type": "code",
   "execution_count": 9,
   "metadata": {},
   "outputs": [
    {
     "name": "stdout",
     "output_type": "stream",
     "text": [
      "     Size\n",
      "0   Small\n",
      "1  Medium\n",
      "2   Large\n",
      "3   Small\n",
      "     Size  Size_encoded\n",
      "0   Small           0.0\n",
      "1  Medium           1.0\n",
      "2   Large           2.0\n",
      "3   Small           0.0\n"
     ]
    }
   ],
   "source": [
    "\n",
    "# Sample data\n",
    "data = {'Size': ['Small', 'Medium', 'Large', 'Small']}\n",
    "df = pd.DataFrame(data)\n",
    "print(df)\n",
    "\n",
    "# Ordinal Encoding\n",
    "ordinal_encoder = OrdinalEncoder(categories=[['Small', 'Medium', 'Large']])\n",
    "df['Size_encoded'] = ordinal_encoder.fit_transform(df[['Size']])\n",
    "print(df)\n"
   ]
  }
 ],
 "metadata": {
  "kernelspec": {
   "display_name": "python_eda",
   "language": "python",
   "name": "python3"
  },
  "language_info": {
   "codemirror_mode": {
    "name": "ipython",
    "version": 3
   },
   "file_extension": ".py",
   "mimetype": "text/x-python",
   "name": "python",
   "nbconvert_exporter": "python",
   "pygments_lexer": "ipython3",
   "version": "3.12.3"
  }
 },
 "nbformat": 4,
 "nbformat_minor": 2
}
