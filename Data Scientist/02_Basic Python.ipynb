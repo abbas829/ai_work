{
  "cells": [
    {
      "cell_type": "markdown",
      "metadata": {
        "id": "tp42BY655WrT"
      },
      "source": [
        "# **Basics of python** "
      ]
    },
    {
      "cell_type": "markdown",
      "metadata": {},
      "source": [
        "Auther: Tassawar Abbas\\\n",
        "Email: abbas829@gmail.com\\\n",
        "Kaggle: https://www.kaggle.com/abbas829\\\n",
        "gitub: https://www.github.com/abbas829"
      ]
    },
    {
      "cell_type": "markdown",
      "metadata": {
        "id": "GDCfrgzcVvpL"
      },
      "source": [
        "# **1.Variable Naming**"
      ]
    },
    {
      "cell_type": "markdown",
      "metadata": {},
      "source": [
        "| Rule                                                | Description                                                                                                   |\n",
        "|-----------------------------------------------------|---------------------------------------------------------------------------------------------------------------|\n",
        "| Must start with a letter or underscore (_)        | Variable names can begin with a letter (a-z, A-Z) or an underscore (_), but not with a digit or special character. |\n",
        "| Can contain letters, digits, and underscores (_)   | Subsequent characters in variable names can be letters (a-z, A-Z), digits (0-9), or underscores (_).           |\n",
        "| Case-sensitive                                     | Python is case-sensitive, so variable names like 'variable', 'Variable', and 'VARIABLE' are distinct.         |\n",
        "| Cannot be a reserved keyword                       | Variable names cannot be the same as Python's reserved keywords, such as 'if', 'for', 'while', etc.           |\n",
        "| Descriptive and meaningful                         | Variable names should accurately describe the data they hold or the role they play in the code.               |\n",
        "| Use snake_case                                     | Follow the convention of using snake_case for variable names, where words are separated by underscores.        |\n",
        "| Be consistent                                      | Maintain consistency in naming conventions throughout the codebase to improve readability.                    |\n",
        "| Avoid single-letter or cryptic names              | Choose variable names that are clear and understandable, avoiding ambiguity or confusion.                     |\n",
        "| Use intuitive abbreviations when appropriate       | It's acceptable to use common abbreviations if they enhance readability without sacrificing clarity.            |\n",
        "| Constants should be in uppercase                  | Constants, whose values are not supposed to change, should be in uppercase with underscores separating words.  |\n"
      ]
    },
    {
      "cell_type": "code",
      "execution_count": 1,
      "metadata": {
        "id": "APfyW0cdz_ii"
      },
      "outputs": [],
      "source": [
        "# Right Variable Declaration\n",
        "num_students = 25"
      ]
    },
    {
      "cell_type": "code",
      "execution_count": 2,
      "metadata": {
        "id": "RrMk7pOTG-8r"
      },
      "outputs": [],
      "source": [
        "total_sales = 1000.50"
      ]
    },
    {
      "cell_type": "code",
      "execution_count": 3,
      "metadata": {
        "id": "n3igG7n4G_8M"
      },
      "outputs": [],
      "source": [
        "student_name = \"AI\""
      ]
    },
    {
      "cell_type": "code",
      "execution_count": 4,
      "metadata": {
        "colab": {
          "base_uri": "https://localhost:8080/"
        },
        "id": "Yximv6J8XCrW",
        "outputId": "6f3ce449-ee36-4993-d8f9-76d8b70787c5"
      },
      "outputs": [
        {
          "name": "stdout",
          "output_type": "stream",
          "text": [
            "Hello world\n"
          ]
        }
      ],
      "source": [
        "print(\"Hello world\")"
      ]
    },
    {
      "cell_type": "markdown",
      "metadata": {},
      "source": [
        "# Understanding Variables as Containers in Python\n",
        "\n",
        "In Python, variables act as containers that hold data values. Just like real-life containers, such as boxes or jars, variables store information that can be accessed and manipulated as needed throughout a program. Understanding how variables work as containers is fundamental to writing effective and efficient Python code.\n",
        "\n",
        "## Declaring Variables\n",
        "\n",
        "To create a variable in Python, you simply choose a name for the variable and assign it a value using the assignment operator (`=`). Here's an example:\n",
        "\n",
        "```python\n",
        "# Declaring variables\n",
        "age = 25\n",
        "name = \"Alice\"\n"
      ]
    },
    {
      "cell_type": "code",
      "execution_count": 5,
      "metadata": {
        "colab": {
          "base_uri": "https://localhost:8080/"
        },
        "id": "Kq5DXX6f0BUT",
        "outputId": "4e336909-a202-4115-fafd-0fb5bb9fb6fa"
      },
      "outputs": [
        {
          "name": "stdout",
          "output_type": "stream",
          "text": [
            "25\n"
          ]
        }
      ],
      "source": [
        "# Print variable values\n",
        "print( num_students)"
      ]
    },
    {
      "cell_type": "code",
      "execution_count": 6,
      "metadata": {
        "colab": {
          "base_uri": "https://localhost:8080/"
        },
        "id": "gD58pVWpHEnc",
        "outputId": "f2327583-cee7-46b6-be6a-5a3a5e4936cf"
      },
      "outputs": [
        {
          "name": "stdout",
          "output_type": "stream",
          "text": [
            "1000.5\n"
          ]
        }
      ],
      "source": [
        "print(total_sales)"
      ]
    },
    {
      "cell_type": "code",
      "execution_count": 7,
      "metadata": {
        "colab": {
          "base_uri": "https://localhost:8080/"
        },
        "id": "XgR056R8HF9k",
        "outputId": "05bbe14f-d0c0-46e2-ce8f-6e740a98a466"
      },
      "outputs": [
        {
          "name": "stdout",
          "output_type": "stream",
          "text": [
            "AI\n"
          ]
        }
      ],
      "source": [
        "print(student_name)"
      ]
    },
    {
      "cell_type": "markdown",
      "metadata": {},
      "source": [
        "#Wrong Variables"
      ]
    },
    {
      "cell_type": "code",
      "execution_count": null,
      "metadata": {
        "colab": {
          "base_uri": "https://localhost:8080/",
          "height": 132
        },
        "id": "UECuC7IR0Cqq",
        "outputId": "2c64eb48-84b7-46e0-e9bc-b28689aad40b"
      },
      "outputs": [
        {
          "ename": "SyntaxError",
          "evalue": "ignored",
          "output_type": "error",
          "traceback": [
            "\u001b[0;36m  File \u001b[0;32m\"<ipython-input-13-f808461acc83>\"\u001b[0;36m, line \u001b[0;32m2\u001b[0m\n\u001b[0;31m    2nd_student = \"Alice\"  # Invalid variable name starting with a number\u001b[0m\n\u001b[0m    ^\u001b[0m\n\u001b[0;31mSyntaxError\u001b[0m\u001b[0;31m:\u001b[0m invalid decimal literal\n"
          ]
        }
      ],
      "source": [
        "# Wrong Variable Declaration\n",
        "2nd_student = \"Alice\"  # Invalid variable name starting with a number"
      ]
    },
    {
      "cell_type": "code",
      "execution_count": null,
      "metadata": {
        "colab": {
          "base_uri": "https://localhost:8080/",
          "height": 132
        },
        "id": "9AnchU9m0Mky",
        "outputId": "2d8cd7df-1233-4d9e-874e-da0f7c32f68c"
      },
      "outputs": [
        {
          "ename": "SyntaxError",
          "evalue": "ignored",
          "output_type": "error",
          "traceback": [
            "\u001b[0;36m  File \u001b[0;32m\"<ipython-input-14-31e2d1ed59cd>\"\u001b[0;36m, line \u001b[0;32m1\u001b[0m\n\u001b[0;31m    total-sales = 500.75   # Invalid variable name with a hyphen\u001b[0m\n\u001b[0m    ^\u001b[0m\n\u001b[0;31mSyntaxError\u001b[0m\u001b[0;31m:\u001b[0m cannot assign to expression here. Maybe you meant '==' instead of '='?\n"
          ]
        }
      ],
      "source": [
        "total-sales = 500.75   # Invalid variable name with a hyphen"
      ]
    },
    {
      "cell_type": "code",
      "execution_count": null,
      "metadata": {
        "colab": {
          "base_uri": "https://localhost:8080/",
          "height": 132
        },
        "id": "9Ndfsmq_0OWK",
        "outputId": "9fe3afdf-d676-428b-acd1-69e61023574c"
      },
      "outputs": [
        {
          "ename": "SyntaxError",
          "evalue": "ignored",
          "output_type": "error",
          "traceback": [
            "\u001b[0;36m  File \u001b[0;32m\"<ipython-input-15-a215e33ddd11>\"\u001b[0;36m, line \u001b[0;32m1\u001b[0m\n\u001b[0;31m    if = 10                # Invalid variable name using a reserved keyword\u001b[0m\n\u001b[0m       ^\u001b[0m\n\u001b[0;31mSyntaxError\u001b[0m\u001b[0;31m:\u001b[0m invalid syntax\n"
          ]
        }
      ],
      "source": [
        "if = 10                # Invalid variable name using a reserved keyword"
      ]
    },
    {
      "cell_type": "code",
      "execution_count": null,
      "metadata": {
        "colab": {
          "base_uri": "https://localhost:8080/",
          "height": 132
        },
        "id": "X_41UfZNWC-q",
        "outputId": "fbee8190-e297-4d2e-af33-11e381ab0bd0"
      },
      "outputs": [
        {
          "ename": "SyntaxError",
          "evalue": "ignored",
          "output_type": "error",
          "traceback": [
            "\u001b[0;36m  File \u001b[0;32m\"<ipython-input-16-6add8792141a>\"\u001b[0;36m, line \u001b[0;32m2\u001b[0m\n\u001b[0;31m    print(2nd_student)\u001b[0m\n\u001b[0m          ^\u001b[0m\n\u001b[0;31mSyntaxError\u001b[0m\u001b[0;31m:\u001b[0m invalid decimal literal\n"
          ]
        }
      ],
      "source": [
        "# Wrong Variable Declarations\n",
        "print(2nd_student)\n",
        "print(total-sales)    \n",
        "print(if)"
      ]
    },
    {
      "cell_type": "markdown",
      "metadata": {
        "id": "VG6wE0Q9U17m"
      },
      "source": [
        "# **2- Data types**"
      ]
    },
    {
      "cell_type": "markdown",
      "metadata": {},
      "source": [
        "| Data Type  | Description                                                  | Example                    |\n",
        "|------------|--------------------------------------------------------------|----------------------------|\n",
        "| int        | Integer numbers                                              | `42`, `-10`, `0`           |\n",
        "| float      | Floating-point numbers (decimal numbers)                     | `3.14`, `-0.001`, `2.0`    |\n",
        "| str        | Strings (sequence of characters)                             | `\"Hello\"`, `'Python'`      |\n",
        "| bool       | Boolean values (`True` or `False`)                           | `True`, `False`            |\n",
        "| list       | Ordered collection of items (mutable)                        | `[1, 2, 3]`, `['a', 'b']`  |\n",
        "| tuple      | Ordered collection of items (immutable)                      | `(1, 2, 3)`, `('a', 'b')`  |\n",
        "| dict       | Collection of key-value pairs (dictionary)                   | `{'name': 'Alice', 'age': 30}` |\n",
        "| set        | Unordered collection of unique items (mutable)               | `{1, 2, 3}`, `{'a', 'b'}`  |\n",
        "| None       | Represents absence of a value                                | `None`                     |\n",
        "\n"
      ]
    },
    {
      "cell_type": "code",
      "execution_count": 8,
      "metadata": {
        "id": "VAxSoz704eZH"
      },
      "outputs": [],
      "source": [
        "num = 23"
      ]
    },
    {
      "cell_type": "code",
      "execution_count": 12,
      "metadata": {
        "colab": {
          "base_uri": "https://localhost:8080/"
        },
        "id": "fduF9YbeE5Dq",
        "outputId": "ffe3fa08-75cb-475c-cce0-723b887f2f71"
      },
      "outputs": [
        {
          "data": {
            "text/plain": [
              "int"
            ]
          },
          "execution_count": 12,
          "metadata": {},
          "output_type": "execute_result"
        }
      ],
      "source": [
        "type(num)"
      ]
    },
    {
      "cell_type": "code",
      "execution_count": 13,
      "metadata": {
        "id": "QSqi1jSq1HsA"
      },
      "outputs": [
        {
          "data": {
            "text/plain": [
              "str"
            ]
          },
          "execution_count": 13,
          "metadata": {},
          "output_type": "execute_result"
        }
      ],
      "source": [
        "name = \"Tassawar Abbas\"\n",
        "type(name)"
      ]
    },
    {
      "cell_type": "code",
      "execution_count": 14,
      "metadata": {
        "id": "mBmi5tjb1cOJ"
      },
      "outputs": [
        {
          "data": {
            "text/plain": [
              "float"
            ]
          },
          "execution_count": 14,
          "metadata": {},
          "output_type": "execute_result"
        }
      ],
      "source": [
        "marks = 85.63\n",
        "type(marks)"
      ]
    },
    {
      "cell_type": "code",
      "execution_count": 15,
      "metadata": {
        "id": "NqlbGH8A1k4s"
      },
      "outputs": [
        {
          "data": {
            "text/plain": [
              "complex"
            ]
          },
          "execution_count": 15,
          "metadata": {},
          "output_type": "execute_result"
        }
      ],
      "source": [
        "complex_number = 1+2j\n",
        "type(complex_number)"
      ]
    },
    {
      "cell_type": "markdown",
      "metadata": {
        "id": "2jAo0dK9v9H1"
      },
      "source": [
        "### Operators\n"
      ]
    },
    {
      "cell_type": "markdown",
      "metadata": {},
      "source": [
        "| Category          | Operator     | Description                             | Example                |\n",
        "|-------------------|--------------|-----------------------------------------|------------------------|\n",
        "| Arithmetic        | `+`          | Addition                                | `5 + 3`                |\n",
        "|                   | `-`          | Subtraction                             | `5 - 3`                |\n",
        "|                   | `*`          | Multiplication                          | `5 * 3`                |\n",
        "|                   | `/`          | Division                                | `5 / 3`                |\n",
        "|                   | `//`         | Floor Division (integer division)       | `5 // 3`               |\n",
        "|                   | `%`          | Modulus (remainder)                     | `5 % 3`                |\n",
        "|                   | `**`         | Exponentiation                          | `5 ** 3`               |\n",
        "| Comparison        | `==`         | Equal to                                | `5 == 3`               |\n",
        "|                   | `!=`         | Not equal to                            | `5 != 3`               |\n",
        "|                   | `<`          | Less than                               | `5 < 3`                |\n",
        "|                   | `>`          | Greater than                            | `5 > 3`                |\n",
        "|                   | `<=`         | Less than or equal to                   | `5 <= 3`               |\n",
        "|                   | `>=`         | Greater than or equal to                | `5 >= 3`               |\n",
        "| Logical           | `and`        | Logical AND                             | `True and False`       |\n",
        "|                   | `or`         | Logical OR                              | `True or False`        |\n",
        "|                   | `not`        | Logical NOT                             | `not True`             |\n",
        "| Membership        | `in`         | Membership (check if item is in a sequence) | `5 in [1, 2, 3]`    |\n",
        "|                   | `not in`     | Negative Membership (check if item is not in a sequence) | `5 not in [1, 2, 3]` |\n",
        "| Identity          | `is`         | Identity (check if two objects are the same) | `x is y`            |\n",
        "|                   | `is not`     | Negative Identity (check if two objects are not the same) | `x is not y`    |\n",
        "| Assignment        | `=`          | Assignment                              | `x = 5`                |\n",
        "|                   | `+=`         | Add and assign                          | `x += 5`               |\n",
        "|                   | `-=`         | Subtract and assign                     | `x -= 5`               |\n",
        "|                   | `*=`         | Multiply and assign                     | `x *= 5`               |\n",
        "|                   | `/=`         | Divide and assign                       | `x /= 5`               |\n",
        "|                   | `//=`        | Floor divide and assign                 | `x //= 5`              |\n",
        "|                   | `%=`         | Modulus and assign                      | `x %= 5`               |\n",
        "|                   | `**=`        | Exponentiate and assign                 | `x **= 5`              |\n",
        "|                   | `:=`         | Walrus Operator (Assignment Expression) | `x := 5`               |\n",
        "| Bitwise           | `&`          | Bitwise AND                             | `5 & 3`                |\n",
        "|                   | `|`          | Bitwise OR                              | `5 | 3`                |\n",
        "|                   | `^`          | Bitwise XOR                             | `5 ^ 3`                |\n",
        "|                   | `~`          | Bitwise NOT (complement)                | `~5`                   |\n",
        "|                   | `<<`         | Left shift                              | `5 << 2`               |\n",
        "|                   | `>>`         | Right shift                             | `5 >> 2`               |\n"
      ]
    },
    {
      "cell_type": "code",
      "execution_count": 16,
      "metadata": {
        "colab": {
          "base_uri": "https://localhost:8080/"
        },
        "id": "F1WPzRjkIeuR",
        "outputId": "b461223f-3715-487f-c889-3ffbb7a287ec"
      },
      "outputs": [
        {
          "name": "stdout",
          "output_type": "stream",
          "text": [
            "12\n"
          ]
        }
      ],
      "source": [
        "# Multiply two numbers\n",
        "print(3*4)"
      ]
    },
    {
      "cell_type": "code",
      "execution_count": 17,
      "metadata": {
        "colab": {
          "base_uri": "https://localhost:8080/"
        },
        "id": "iAtsnkdvIgjZ",
        "outputId": "c864164c-627a-4fc4-a32b-598558c58491"
      },
      "outputs": [
        {
          "name": "stdout",
          "output_type": "stream",
          "text": [
            "9\n"
          ]
        }
      ],
      "source": [
        "# Display calculate square of number\n",
        "print(3**2)"
      ]
    },
    {
      "cell_type": "code",
      "execution_count": 18,
      "metadata": {
        "colab": {
          "base_uri": "https://localhost:8080/"
        },
        "id": "DUY8IG3DIh4x",
        "outputId": "c15e762b-f506-4774-dc68-0ec3aa1b170e"
      },
      "outputs": [
        {
          "name": "stdout",
          "output_type": "stream",
          "text": [
            "1\n"
          ]
        }
      ],
      "source": [
        "# Calculate the Remainder \n",
        "print(16%5)"
      ]
    },
    {
      "cell_type": "code",
      "execution_count": 19,
      "metadata": {
        "colab": {
          "base_uri": "https://localhost:8080/"
        },
        "id": "w_FGGf9WIi7p",
        "outputId": "063f5c8f-c736-4d69-df71-dce91e01ab2e"
      },
      "outputs": [
        {
          "data": {
            "text/plain": [
              "0.5"
            ]
          },
          "execution_count": 19,
          "metadata": {},
          "output_type": "execute_result"
        }
      ],
      "source": [
        "# Divide two numbers\n",
        "a = 5.0/10.0\n",
        "a"
      ]
    },
    {
      "cell_type": "code",
      "execution_count": 20,
      "metadata": {
        "colab": {
          "base_uri": "https://localhost:8080/"
        },
        "id": "JF-_uUfIIqFp",
        "outputId": "b05bb848-9df3-4cf4-f264-45d24d084466"
      },
      "outputs": [
        {
          "data": {
            "text/plain": [
              "2"
            ]
          },
          "execution_count": 20,
          "metadata": {},
          "output_type": "execute_result"
        }
      ],
      "source": [
        "# Calculate the Quotient of two numbers\n",
        "b= 11//4\n",
        "b"
      ]
    },
    {
      "cell_type": "markdown",
      "metadata": {
        "id": "6JngBPaWv9H1"
      },
      "source": [
        "### Adding two integers"
      ]
    },
    {
      "cell_type": "code",
      "execution_count": 21,
      "metadata": {
        "colab": {
          "base_uri": "https://localhost:8080/"
        },
        "id": "bqzAkHS_v9H1",
        "outputId": "8c0b2d5c-9b37-4660-fa79-3aeda1b686a7"
      },
      "outputs": [
        {
          "name": "stdout",
          "output_type": "stream",
          "text": [
            "7\n"
          ]
        }
      ],
      "source": [
        "num1 = 5\n",
        "num2 = 2\n",
        "sum = num1 + num2\n",
        "print(sum)"
      ]
    },
    {
      "cell_type": "markdown",
      "metadata": {
        "id": "u0EeGlF0qmQT"
      },
      "source": [
        "### simple program to calculate the area of Rectangle\n",
        "area of rectangle = length * height"
      ]
    },
    {
      "cell_type": "code",
      "execution_count": 22,
      "metadata": {
        "colab": {
          "base_uri": "https://localhost:8080/"
        },
        "id": "iqT1uRkaq8ZK",
        "outputId": "7cd7bf00-95d1-4887-b74f-2ffc295ac62c"
      },
      "outputs": [
        {
          "name": "stdout",
          "output_type": "stream",
          "text": [
            "8.75\n"
          ]
        }
      ],
      "source": [
        "# Simple program to calculate the area of rectangle\n",
        "\n",
        "length = 2.5\n",
        "height = 3.5\n",
        "area = length * height\n",
        "print(area)"
      ]
    },
    {
      "cell_type": "markdown",
      "metadata": {},
      "source": [
        "\n",
        "---"
      ]
    },
    {
      "cell_type": "markdown",
      "metadata": {},
      "source": [
        "***"
      ]
    }
  ],
  "metadata": {
    "colab": {
      "provenance": []
    },
    "kernelspec": {
      "display_name": "Python 3",
      "name": "python3"
    },
    "language_info": {
      "codemirror_mode": {
        "name": "ipython",
        "version": 3
      },
      "file_extension": ".py",
      "mimetype": "text/x-python",
      "name": "python",
      "nbconvert_exporter": "python",
      "pygments_lexer": "ipython3",
      "version": "3.12.3"
    }
  },
  "nbformat": 4,
  "nbformat_minor": 0
}
