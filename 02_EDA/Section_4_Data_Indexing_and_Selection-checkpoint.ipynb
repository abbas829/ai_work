{
 "cells": [
  {
   "cell_type": "markdown",
   "metadata": {},
   "source": [
    "# Data Indexing and Selection"
   ]
  },
  {
   "cell_type": "markdown",
   "metadata": {},
   "source": [
    "## Data Selection in Series - Part 1"
   ]
  },
  {
   "cell_type": "markdown",
   "metadata": {},
   "source": [
    "How to access the data when Series acts as dictionary?"
   ]
  },
  {
   "cell_type": "code",
   "execution_count": 1,
   "metadata": {},
   "outputs": [],
   "source": [
    "import pandas as pd"
   ]
  },
  {
   "cell_type": "code",
   "execution_count": 2,
   "metadata": {},
   "outputs": [
    {
     "data": {
      "text/plain": [
       "A    10\n",
       "B    20\n",
       "C    30\n",
       "D    40\n",
       "E    50\n",
       "dtype: int64"
      ]
     },
     "execution_count": 2,
     "metadata": {},
     "output_type": "execute_result"
    }
   ],
   "source": [
    "data = pd.Series([10, 20, 30, 40, 50], index = ['A', 'B', 'C', 'D', 'E'])\n",
    "data"
   ]
  },
  {
   "cell_type": "code",
   "execution_count": 3,
   "metadata": {},
   "outputs": [
    {
     "data": {
      "text/plain": [
       "10"
      ]
     },
     "execution_count": 3,
     "metadata": {},
     "output_type": "execute_result"
    }
   ],
   "source": [
    "data['A']"
   ]
  },
  {
   "cell_type": "code",
   "execution_count": 4,
   "metadata": {},
   "outputs": [
    {
     "data": {
      "text/plain": [
       "True"
      ]
     },
     "execution_count": 4,
     "metadata": {},
     "output_type": "execute_result"
    }
   ],
   "source": [
    "'A' in data"
   ]
  },
  {
   "cell_type": "code",
   "execution_count": 5,
   "metadata": {},
   "outputs": [
    {
     "name": "stdout",
     "output_type": "stream",
     "text": [
      "\u001b[1;31mSignature:\u001b[0m \u001b[0mpd\u001b[0m\u001b[1;33m.\u001b[0m\u001b[0mSeries\u001b[0m\u001b[1;33m.\u001b[0m\u001b[0mkeys\u001b[0m\u001b[1;33m(\u001b[0m\u001b[0mself\u001b[0m\u001b[1;33m)\u001b[0m \u001b[1;33m->\u001b[0m \u001b[1;34m'Index'\u001b[0m\u001b[1;33m\u001b[0m\u001b[1;33m\u001b[0m\u001b[0m\n",
      "\u001b[1;31mDocstring:\u001b[0m\n",
      "Return alias for index.\n",
      "\n",
      "Returns\n",
      "-------\n",
      "Index\n",
      "    Index of the Series.\n",
      "\n",
      "Examples\n",
      "--------\n",
      ">>> s = pd.Series([1, 2, 3], index=[0, 1, 2])\n",
      ">>> s.keys()\n",
      "Index([0, 1, 2], dtype='int64')\n",
      "\u001b[1;31mFile:\u001b[0m      c:\\users\\abbas\\miniconda3\\envs\\hugging_face\\lib\\site-packages\\pandas\\core\\series.py\n",
      "\u001b[1;31mType:\u001b[0m      function"
     ]
    }
   ],
   "source": [
    "pd.Series.keys?"
   ]
  },
  {
   "cell_type": "code",
   "execution_count": 6,
   "metadata": {},
   "outputs": [
    {
     "data": {
      "text/plain": [
       "Index(['A', 'B', 'C', 'D', 'E'], dtype='object')"
      ]
     },
     "execution_count": 6,
     "metadata": {},
     "output_type": "execute_result"
    }
   ],
   "source": [
    "data.keys()"
   ]
  },
  {
   "cell_type": "code",
   "execution_count": 7,
   "metadata": {},
   "outputs": [
    {
     "name": "stdout",
     "output_type": "stream",
     "text": [
      "\u001b[1;31mSignature:\u001b[0m \u001b[0mpd\u001b[0m\u001b[1;33m.\u001b[0m\u001b[0mSeries\u001b[0m\u001b[1;33m.\u001b[0m\u001b[0mitems\u001b[0m\u001b[1;33m(\u001b[0m\u001b[0mself\u001b[0m\u001b[1;33m)\u001b[0m \u001b[1;33m->\u001b[0m \u001b[1;34m'Iterable[tuple[Hashable, Any]]'\u001b[0m\u001b[1;33m\u001b[0m\u001b[1;33m\u001b[0m\u001b[0m\n",
      "\u001b[1;31mDocstring:\u001b[0m\n",
      "Lazily iterate over (index, value) tuples.\n",
      "\n",
      "This method returns an iterable tuple (index, value). This is\n",
      "convenient if you want to create a lazy iterator.\n",
      "\n",
      "Returns\n",
      "-------\n",
      "iterable\n",
      "    Iterable of tuples containing the (index, value) pairs from a\n",
      "    Series.\n",
      "\n",
      "See Also\n",
      "--------\n",
      "DataFrame.items : Iterate over (column name, Series) pairs.\n",
      "DataFrame.iterrows : Iterate over DataFrame rows as (index, Series) pairs.\n",
      "\n",
      "Examples\n",
      "--------\n",
      ">>> s = pd.Series(['A', 'B', 'C'])\n",
      ">>> for index, value in s.items():\n",
      "...     print(f\"Index : {index}, Value : {value}\")\n",
      "Index : 0, Value : A\n",
      "Index : 1, Value : B\n",
      "Index : 2, Value : C\n",
      "\u001b[1;31mFile:\u001b[0m      c:\\users\\abbas\\miniconda3\\envs\\hugging_face\\lib\\site-packages\\pandas\\core\\series.py\n",
      "\u001b[1;31mType:\u001b[0m      function"
     ]
    }
   ],
   "source": [
    "pd.Series.items?"
   ]
  },
  {
   "cell_type": "code",
   "execution_count": 8,
   "metadata": {},
   "outputs": [
    {
     "name": "stdout",
     "output_type": "stream",
     "text": [
      "<zip object at 0x0000014841BE6200>\n"
     ]
    }
   ],
   "source": [
    "print(data.items()); "
   ]
  },
  {
   "cell_type": "code",
   "execution_count": 9,
   "metadata": {},
   "outputs": [
    {
     "name": "stdout",
     "output_type": "stream",
     "text": [
      "[('A', 10), ('B', 20), ('C', 30), ('D', 40), ('E', 50)]\n"
     ]
    }
   ],
   "source": [
    "print(list(data.items()))"
   ]
  },
  {
   "cell_type": "code",
   "execution_count": 10,
   "metadata": {},
   "outputs": [
    {
     "data": {
      "text/plain": [
       "A    45\n",
       "B    20\n",
       "C    30\n",
       "D    40\n",
       "E    50\n",
       "dtype: int64"
      ]
     },
     "execution_count": 10,
     "metadata": {},
     "output_type": "execute_result"
    }
   ],
   "source": [
    "data['A'] = 45\n",
    "data"
   ]
  },
  {
   "cell_type": "markdown",
   "metadata": {},
   "source": [
    "## Data Selection in Series - Part 2"
   ]
  },
  {
   "cell_type": "markdown",
   "metadata": {},
   "source": [
    "#### How to access the data when Series acts as one-dimensional array?"
   ]
  },
  {
   "cell_type": "code",
   "execution_count": 11,
   "metadata": {},
   "outputs": [
    {
     "name": "stdout",
     "output_type": "stream",
     "text": [
      "A    45\n",
      "B    20\n",
      "C    30\n",
      "D    40\n",
      "E    50\n",
      "dtype: int64\n",
      "A    45\n",
      "B    20\n",
      "C    30\n",
      "D    40\n",
      "dtype: int64\n"
     ]
    }
   ],
   "source": [
    "print(data)\n",
    "print(data['A':'D'])"
   ]
  },
  {
   "cell_type": "code",
   "execution_count": 12,
   "metadata": {},
   "outputs": [
    {
     "name": "stdout",
     "output_type": "stream",
     "text": [
      "A    45\n",
      "B    20\n",
      "C    30\n",
      "D    40\n",
      "E    50\n",
      "dtype: int64\n",
      "A    45\n",
      "B    20\n",
      "C    30\n",
      "D    40\n",
      "dtype: int64\n"
     ]
    }
   ],
   "source": [
    "print(data)\n",
    "print(data[0:4])"
   ]
  },
  {
   "cell_type": "code",
   "execution_count": 13,
   "metadata": {},
   "outputs": [
    {
     "data": {
      "text/plain": [
       "A    45\n",
       "C    30\n",
       "D    40\n",
       "dtype: int64"
      ]
     },
     "execution_count": 13,
     "metadata": {},
     "output_type": "execute_result"
    }
   ],
   "source": [
    "data[(data > 20) & (data < 50)]"
   ]
  },
  {
   "cell_type": "code",
   "execution_count": 14,
   "metadata": {},
   "outputs": [
    {
     "data": {
      "text/plain": [
       "A    45\n",
       "E    50\n",
       "dtype: int64"
      ]
     },
     "execution_count": 14,
     "metadata": {},
     "output_type": "execute_result"
    }
   ],
   "source": [
    "data[['A', 'E']]"
   ]
  },
  {
   "cell_type": "markdown",
   "metadata": {},
   "source": [
    "## Indexers loc and iloc"
   ]
  },
  {
   "cell_type": "code",
   "execution_count": 15,
   "metadata": {},
   "outputs": [
    {
     "data": {
      "text/plain": [
       "A    45\n",
       "B    20\n",
       "C    30\n",
       "D    40\n",
       "E    50\n",
       "dtype: int64"
      ]
     },
     "execution_count": 15,
     "metadata": {},
     "output_type": "execute_result"
    }
   ],
   "source": [
    "data"
   ]
  },
  {
   "cell_type": "code",
   "execution_count": 16,
   "metadata": {},
   "outputs": [
    {
     "data": {
      "text/plain": [
       "B    20\n",
       "C    30\n",
       "dtype: int64"
      ]
     },
     "execution_count": 16,
     "metadata": {},
     "output_type": "execute_result"
    }
   ],
   "source": [
    "data[1:3]"
   ]
  },
  {
   "cell_type": "code",
   "execution_count": 17,
   "metadata": {},
   "outputs": [
    {
     "data": {
      "text/plain": [
       "B    20\n",
       "C    30\n",
       "D    40\n",
       "dtype: int64"
      ]
     },
     "execution_count": 17,
     "metadata": {},
     "output_type": "execute_result"
    }
   ],
   "source": [
    "data['B':'D']"
   ]
  },
  {
   "cell_type": "code",
   "execution_count": 18,
   "metadata": {},
   "outputs": [
    {
     "data": {
      "text/plain": [
       "1    a\n",
       "3    b\n",
       "4    c\n",
       "5    d\n",
       "6    e\n",
       "7    f\n",
       "dtype: object"
      ]
     },
     "execution_count": 18,
     "metadata": {},
     "output_type": "execute_result"
    }
   ],
   "source": [
    "idata = pd.Series(['a', 'b', 'c', 'd', 'e', 'f'], index=[1, 3, 4, 5, 6, 7])\n",
    "idata"
   ]
  },
  {
   "cell_type": "code",
   "execution_count": 19,
   "metadata": {},
   "outputs": [
    {
     "data": {
      "text/plain": [
       "'a'"
      ]
     },
     "execution_count": 19,
     "metadata": {},
     "output_type": "execute_result"
    }
   ],
   "source": [
    "idata[1]"
   ]
  },
  {
   "cell_type": "code",
   "execution_count": 20,
   "metadata": {},
   "outputs": [
    {
     "data": {
      "text/plain": [
       "3    b\n",
       "4    c\n",
       "5    d\n",
       "dtype: object"
      ]
     },
     "execution_count": 20,
     "metadata": {},
     "output_type": "execute_result"
    }
   ],
   "source": [
    "idata[1:4]"
   ]
  },
  {
   "cell_type": "code",
   "execution_count": 21,
   "metadata": {},
   "outputs": [
    {
     "name": "stdout",
     "output_type": "stream",
     "text": [
      "\u001b[1;31mType:\u001b[0m        property\n",
      "\u001b[1;31mString form:\u001b[0m <property object at 0x0000014841587C90>\n",
      "\u001b[1;31mDocstring:\u001b[0m  \n",
      "Access a group of rows and columns by label(s) or a boolean array.\n",
      "\n",
      "``.loc[]`` is primarily label based, but may also be used with a\n",
      "boolean array.\n",
      "\n",
      "Allowed inputs are:\n",
      "\n",
      "- A single label, e.g. ``5`` or ``'a'``, (note that ``5`` is\n",
      "  interpreted as a *label* of the index, and **never** as an\n",
      "  integer position along the index).\n",
      "- A list or array of labels, e.g. ``['a', 'b', 'c']``.\n",
      "- A slice object with labels, e.g. ``'a':'f'``.\n",
      "\n",
      "  .. warning:: Note that contrary to usual python slices, **both** the\n",
      "      start and the stop are included\n",
      "\n",
      "- A boolean array of the same length as the axis being sliced,\n",
      "  e.g. ``[True, False, True]``.\n",
      "- An alignable boolean Series. The index of the key will be aligned before\n",
      "  masking.\n",
      "- An alignable Index. The Index of the returned selection will be the input.\n",
      "- A ``callable`` function with one argument (the calling Series or\n",
      "  DataFrame) and that returns valid output for indexing (one of the above)\n",
      "\n",
      "See more at :ref:`Selection by Label <indexing.label>`.\n",
      "\n",
      "Raises\n",
      "------\n",
      "KeyError\n",
      "    If any items are not found.\n",
      "IndexingError\n",
      "    If an indexed key is passed and its index is unalignable to the frame index.\n",
      "\n",
      "See Also\n",
      "--------\n",
      "DataFrame.at : Access a single value for a row/column label pair.\n",
      "DataFrame.iloc : Access group of rows and columns by integer position(s).\n",
      "DataFrame.xs : Returns a cross-section (row(s) or column(s)) from the\n",
      "               Series/DataFrame.\n",
      "Series.loc : Access group of values using labels.\n",
      "\n",
      "Examples\n",
      "--------\n",
      "**Getting values**\n",
      "\n",
      ">>> df = pd.DataFrame([[1, 2], [4, 5], [7, 8]],\n",
      "...                   index=['cobra', 'viper', 'sidewinder'],\n",
      "...                   columns=['max_speed', 'shield'])\n",
      ">>> df\n",
      "            max_speed  shield\n",
      "cobra               1       2\n",
      "viper               4       5\n",
      "sidewinder          7       8\n",
      "\n",
      "Single label. Note this returns the row as a Series.\n",
      "\n",
      ">>> df.loc['viper']\n",
      "max_speed    4\n",
      "shield       5\n",
      "Name: viper, dtype: int64\n",
      "\n",
      "List of labels. Note using ``[[]]`` returns a DataFrame.\n",
      "\n",
      ">>> df.loc[['viper', 'sidewinder']]\n",
      "            max_speed  shield\n",
      "viper               4       5\n",
      "sidewinder          7       8\n",
      "\n",
      "Single label for row and column\n",
      "\n",
      ">>> df.loc['cobra', 'shield']\n",
      "2\n",
      "\n",
      "Slice with labels for row and single label for column. As mentioned\n",
      "above, note that both the start and stop of the slice are included.\n",
      "\n",
      ">>> df.loc['cobra':'viper', 'max_speed']\n",
      "cobra    1\n",
      "viper    4\n",
      "Name: max_speed, dtype: int64\n",
      "\n",
      "Boolean list with the same length as the row axis\n",
      "\n",
      ">>> df.loc[[False, False, True]]\n",
      "            max_speed  shield\n",
      "sidewinder          7       8\n",
      "\n",
      "Alignable boolean Series:\n",
      "\n",
      ">>> df.loc[pd.Series([False, True, False],\n",
      "...                  index=['viper', 'sidewinder', 'cobra'])]\n",
      "                     max_speed  shield\n",
      "sidewinder          7       8\n",
      "\n",
      "Index (same behavior as ``df.reindex``)\n",
      "\n",
      ">>> df.loc[pd.Index([\"cobra\", \"viper\"], name=\"foo\")]\n",
      "       max_speed  shield\n",
      "foo\n",
      "cobra          1       2\n",
      "viper          4       5\n",
      "\n",
      "Conditional that returns a boolean Series\n",
      "\n",
      ">>> df.loc[df['shield'] > 6]\n",
      "            max_speed  shield\n",
      "sidewinder          7       8\n",
      "\n",
      "Conditional that returns a boolean Series with column labels specified\n",
      "\n",
      ">>> df.loc[df['shield'] > 6, ['max_speed']]\n",
      "            max_speed\n",
      "sidewinder          7\n",
      "\n",
      "Multiple conditional using ``&`` that returns a boolean Series\n",
      "\n",
      ">>> df.loc[(df['max_speed'] > 1) & (df['shield'] < 8)]\n",
      "            max_speed  shield\n",
      "viper          4       5\n",
      "\n",
      "Multiple conditional using ``|`` that returns a boolean Series\n",
      "\n",
      ">>> df.loc[(df['max_speed'] > 4) | (df['shield'] < 5)]\n",
      "            max_speed  shield\n",
      "cobra               1       2\n",
      "sidewinder          7       8\n",
      "\n",
      "Please ensure that each condition is wrapped in parentheses ``()``.\n",
      "See the :ref:`user guide<indexing.boolean>`\n",
      "for more details and explanations of Boolean indexing.\n",
      "\n",
      ".. note::\n",
      "    If you find yourself using 3 or more conditionals in ``.loc[]``,\n",
      "    consider using :ref:`advanced indexing<advanced.advanced_hierarchical>`.\n",
      "\n",
      "    See below for using ``.loc[]`` on MultiIndex DataFrames.\n",
      "\n",
      "Callable that returns a boolean Series\n",
      "\n",
      ">>> df.loc[lambda df: df['shield'] == 8]\n",
      "            max_speed  shield\n",
      "sidewinder          7       8\n",
      "\n",
      "**Setting values**\n",
      "\n",
      "Set value for all items matching the list of labels\n",
      "\n",
      ">>> df.loc[['viper', 'sidewinder'], ['shield']] = 50\n",
      ">>> df\n",
      "            max_speed  shield\n",
      "cobra               1       2\n",
      "viper               4      50\n",
      "sidewinder          7      50\n",
      "\n",
      "Set value for an entire row\n",
      "\n",
      ">>> df.loc['cobra'] = 10\n",
      ">>> df\n",
      "            max_speed  shield\n",
      "cobra              10      10\n",
      "viper               4      50\n",
      "sidewinder          7      50\n",
      "\n",
      "Set value for an entire column\n",
      "\n",
      ">>> df.loc[:, 'max_speed'] = 30\n",
      ">>> df\n",
      "            max_speed  shield\n",
      "cobra              30      10\n",
      "viper              30      50\n",
      "sidewinder         30      50\n",
      "\n",
      "Set value for rows matching callable condition\n",
      "\n",
      ">>> df.loc[df['shield'] > 35] = 0\n",
      ">>> df\n",
      "            max_speed  shield\n",
      "cobra              30      10\n",
      "viper               0       0\n",
      "sidewinder          0       0\n",
      "\n",
      "Add value matching location\n",
      "\n",
      ">>> df.loc[\"viper\", \"shield\"] += 5\n",
      ">>> df\n",
      "            max_speed  shield\n",
      "cobra              30      10\n",
      "viper               0       5\n",
      "sidewinder          0       0\n",
      "\n",
      "Setting using a ``Series`` or a ``DataFrame`` sets the values matching the\n",
      "index labels, not the index positions.\n",
      "\n",
      ">>> shuffled_df = df.loc[[\"viper\", \"cobra\", \"sidewinder\"]]\n",
      ">>> df.loc[:] += shuffled_df\n",
      ">>> df\n",
      "            max_speed  shield\n",
      "cobra              60      20\n",
      "viper               0      10\n",
      "sidewinder          0       0\n",
      "\n",
      "**Getting values on a DataFrame with an index that has integer labels**\n",
      "\n",
      "Another example using integers for the index\n",
      "\n",
      ">>> df = pd.DataFrame([[1, 2], [4, 5], [7, 8]],\n",
      "...                   index=[7, 8, 9], columns=['max_speed', 'shield'])\n",
      ">>> df\n",
      "   max_speed  shield\n",
      "7          1       2\n",
      "8          4       5\n",
      "9          7       8\n",
      "\n",
      "Slice with integer labels for rows. As mentioned above, note that both\n",
      "the start and stop of the slice are included.\n",
      "\n",
      ">>> df.loc[7:9]\n",
      "   max_speed  shield\n",
      "7          1       2\n",
      "8          4       5\n",
      "9          7       8\n",
      "\n",
      "**Getting values with a MultiIndex**\n",
      "\n",
      "A number of examples using a DataFrame with a MultiIndex\n",
      "\n",
      ">>> tuples = [\n",
      "...     ('cobra', 'mark i'), ('cobra', 'mark ii'),\n",
      "...     ('sidewinder', 'mark i'), ('sidewinder', 'mark ii'),\n",
      "...     ('viper', 'mark ii'), ('viper', 'mark iii')\n",
      "... ]\n",
      ">>> index = pd.MultiIndex.from_tuples(tuples)\n",
      ">>> values = [[12, 2], [0, 4], [10, 20],\n",
      "...           [1, 4], [7, 1], [16, 36]]\n",
      ">>> df = pd.DataFrame(values, columns=['max_speed', 'shield'], index=index)\n",
      ">>> df\n",
      "                     max_speed  shield\n",
      "cobra      mark i           12       2\n",
      "           mark ii           0       4\n",
      "sidewinder mark i           10      20\n",
      "           mark ii           1       4\n",
      "viper      mark ii           7       1\n",
      "           mark iii         16      36\n",
      "\n",
      "Single label. Note this returns a DataFrame with a single index.\n",
      "\n",
      ">>> df.loc['cobra']\n",
      "         max_speed  shield\n",
      "mark i          12       2\n",
      "mark ii          0       4\n",
      "\n",
      "Single index tuple. Note this returns a Series.\n",
      "\n",
      ">>> df.loc[('cobra', 'mark ii')]\n",
      "max_speed    0\n",
      "shield       4\n",
      "Name: (cobra, mark ii), dtype: int64\n",
      "\n",
      "Single label for row and column. Similar to passing in a tuple, this\n",
      "returns a Series.\n",
      "\n",
      ">>> df.loc['cobra', 'mark i']\n",
      "max_speed    12\n",
      "shield        2\n",
      "Name: (cobra, mark i), dtype: int64\n",
      "\n",
      "Single tuple. Note using ``[[]]`` returns a DataFrame.\n",
      "\n",
      ">>> df.loc[[('cobra', 'mark ii')]]\n",
      "               max_speed  shield\n",
      "cobra mark ii          0       4\n",
      "\n",
      "Single tuple for the index with a single label for the column\n",
      "\n",
      ">>> df.loc[('cobra', 'mark i'), 'shield']\n",
      "2\n",
      "\n",
      "Slice from index tuple to single label\n",
      "\n",
      ">>> df.loc[('cobra', 'mark i'):'viper']\n",
      "                     max_speed  shield\n",
      "cobra      mark i           12       2\n",
      "           mark ii           0       4\n",
      "sidewinder mark i           10      20\n",
      "           mark ii           1       4\n",
      "viper      mark ii           7       1\n",
      "           mark iii         16      36\n",
      "\n",
      "Slice from index tuple to index tuple\n",
      "\n",
      ">>> df.loc[('cobra', 'mark i'):('viper', 'mark ii')]\n",
      "                    max_speed  shield\n",
      "cobra      mark i          12       2\n",
      "           mark ii          0       4\n",
      "sidewinder mark i          10      20\n",
      "           mark ii          1       4\n",
      "viper      mark ii          7       1\n",
      "\n",
      "Please see the :ref:`user guide<advanced.advanced_hierarchical>`\n",
      "for more details and explanations of advanced indexing."
     ]
    }
   ],
   "source": [
    "pd.Series.loc?"
   ]
  },
  {
   "cell_type": "code",
   "execution_count": 22,
   "metadata": {},
   "outputs": [
    {
     "data": {
      "text/plain": [
       "'a'"
      ]
     },
     "execution_count": 22,
     "metadata": {},
     "output_type": "execute_result"
    }
   ],
   "source": [
    "idata.loc[1]"
   ]
  },
  {
   "cell_type": "code",
   "execution_count": 23,
   "metadata": {},
   "outputs": [
    {
     "name": "stdout",
     "output_type": "stream",
     "text": [
      "1    a\n",
      "3    b\n",
      "4    c\n",
      "5    d\n",
      "6    e\n",
      "7    f\n",
      "dtype: object\n"
     ]
    },
    {
     "data": {
      "text/plain": [
       "1    a\n",
       "3    b\n",
       "4    c\n",
       "dtype: object"
      ]
     },
     "execution_count": 23,
     "metadata": {},
     "output_type": "execute_result"
    }
   ],
   "source": [
    "print(idata)\n",
    "idata.loc[1:4]"
   ]
  },
  {
   "cell_type": "code",
   "execution_count": 24,
   "metadata": {},
   "outputs": [
    {
     "data": {
      "text/plain": [
       "1    a\n",
       "3    b\n",
       "4    c\n",
       "5    d\n",
       "6    e\n",
       "dtype: object"
      ]
     },
     "execution_count": 24,
     "metadata": {},
     "output_type": "execute_result"
    }
   ],
   "source": [
    "idata.loc[1:6]"
   ]
  },
  {
   "cell_type": "code",
   "execution_count": 25,
   "metadata": {},
   "outputs": [
    {
     "name": "stdout",
     "output_type": "stream",
     "text": [
      "1    a\n",
      "3    b\n",
      "4    c\n",
      "5    d\n",
      "6    e\n",
      "7    f\n",
      "dtype: object\n",
      "5    d\n",
      "6    e\n",
      "7    f\n",
      "dtype: object\n",
      "3    b\n",
      "4    c\n",
      "5    d\n",
      "6    e\n",
      "dtype: object\n"
     ]
    }
   ],
   "source": [
    "print(idata)\n",
    "print(idata[3:6])        # implicit index without loc : also final index is excluded\n",
    "print(idata.loc[3:6])    # explicit index with loc : also final index is included"
   ]
  },
  {
   "cell_type": "code",
   "execution_count": 26,
   "metadata": {},
   "outputs": [
    {
     "name": "stdout",
     "output_type": "stream",
     "text": [
      "\u001b[1;31mType:\u001b[0m        property\n",
      "\u001b[1;31mString form:\u001b[0m <property object at 0x0000014841617650>\n",
      "\u001b[1;31mDocstring:\u001b[0m  \n",
      "Purely integer-location based indexing for selection by position.\n",
      "\n",
      ".. deprecated:: 2.2.0\n",
      "\n",
      "   Returning a tuple from a callable is deprecated.\n",
      "\n",
      "``.iloc[]`` is primarily integer position based (from ``0`` to\n",
      "``length-1`` of the axis), but may also be used with a boolean\n",
      "array.\n",
      "\n",
      "Allowed inputs are:\n",
      "\n",
      "- An integer, e.g. ``5``.\n",
      "- A list or array of integers, e.g. ``[4, 3, 0]``.\n",
      "- A slice object with ints, e.g. ``1:7``.\n",
      "- A boolean array.\n",
      "- A ``callable`` function with one argument (the calling Series or\n",
      "  DataFrame) and that returns valid output for indexing (one of the above).\n",
      "  This is useful in method chains, when you don't have a reference to the\n",
      "  calling object, but would like to base your selection on\n",
      "  some value.\n",
      "- A tuple of row and column indexes. The tuple elements consist of one of the\n",
      "  above inputs, e.g. ``(0, 1)``.\n",
      "\n",
      "``.iloc`` will raise ``IndexError`` if a requested indexer is\n",
      "out-of-bounds, except *slice* indexers which allow out-of-bounds\n",
      "indexing (this conforms with python/numpy *slice* semantics).\n",
      "\n",
      "See more at :ref:`Selection by Position <indexing.integer>`.\n",
      "\n",
      "See Also\n",
      "--------\n",
      "DataFrame.iat : Fast integer location scalar accessor.\n",
      "DataFrame.loc : Purely label-location based indexer for selection by label.\n",
      "Series.iloc : Purely integer-location based indexing for\n",
      "               selection by position.\n",
      "\n",
      "Examples\n",
      "--------\n",
      ">>> mydict = [{'a': 1, 'b': 2, 'c': 3, 'd': 4},\n",
      "...           {'a': 100, 'b': 200, 'c': 300, 'd': 400},\n",
      "...           {'a': 1000, 'b': 2000, 'c': 3000, 'd': 4000}]\n",
      ">>> df = pd.DataFrame(mydict)\n",
      ">>> df\n",
      "      a     b     c     d\n",
      "0     1     2     3     4\n",
      "1   100   200   300   400\n",
      "2  1000  2000  3000  4000\n",
      "\n",
      "**Indexing just the rows**\n",
      "\n",
      "With a scalar integer.\n",
      "\n",
      ">>> type(df.iloc[0])\n",
      "<class 'pandas.core.series.Series'>\n",
      ">>> df.iloc[0]\n",
      "a    1\n",
      "b    2\n",
      "c    3\n",
      "d    4\n",
      "Name: 0, dtype: int64\n",
      "\n",
      "With a list of integers.\n",
      "\n",
      ">>> df.iloc[[0]]\n",
      "   a  b  c  d\n",
      "0  1  2  3  4\n",
      ">>> type(df.iloc[[0]])\n",
      "<class 'pandas.core.frame.DataFrame'>\n",
      "\n",
      ">>> df.iloc[[0, 1]]\n",
      "     a    b    c    d\n",
      "0    1    2    3    4\n",
      "1  100  200  300  400\n",
      "\n",
      "With a `slice` object.\n",
      "\n",
      ">>> df.iloc[:3]\n",
      "      a     b     c     d\n",
      "0     1     2     3     4\n",
      "1   100   200   300   400\n",
      "2  1000  2000  3000  4000\n",
      "\n",
      "With a boolean mask the same length as the index.\n",
      "\n",
      ">>> df.iloc[[True, False, True]]\n",
      "      a     b     c     d\n",
      "0     1     2     3     4\n",
      "2  1000  2000  3000  4000\n",
      "\n",
      "With a callable, useful in method chains. The `x` passed\n",
      "to the ``lambda`` is the DataFrame being sliced. This selects\n",
      "the rows whose index label even.\n",
      "\n",
      ">>> df.iloc[lambda x: x.index % 2 == 0]\n",
      "      a     b     c     d\n",
      "0     1     2     3     4\n",
      "2  1000  2000  3000  4000\n",
      "\n",
      "**Indexing both axes**\n",
      "\n",
      "You can mix the indexer types for the index and columns. Use ``:`` to\n",
      "select the entire axis.\n",
      "\n",
      "With scalar integers.\n",
      "\n",
      ">>> df.iloc[0, 1]\n",
      "2\n",
      "\n",
      "With lists of integers.\n",
      "\n",
      ">>> df.iloc[[0, 2], [1, 3]]\n",
      "      b     d\n",
      "0     2     4\n",
      "2  2000  4000\n",
      "\n",
      "With `slice` objects.\n",
      "\n",
      ">>> df.iloc[1:3, 0:3]\n",
      "      a     b     c\n",
      "1   100   200   300\n",
      "2  1000  2000  3000\n",
      "\n",
      "With a boolean array whose length matches the columns.\n",
      "\n",
      ">>> df.iloc[:, [True, False, True, False]]\n",
      "      a     c\n",
      "0     1     3\n",
      "1   100   300\n",
      "2  1000  3000\n",
      "\n",
      "With a callable function that expects the Series or DataFrame.\n",
      "\n",
      ">>> df.iloc[:, lambda df: [0, 2]]\n",
      "      a     c\n",
      "0     1     3\n",
      "1   100   300\n",
      "2  1000  3000"
     ]
    }
   ],
   "source": [
    "pd.Series.iloc?"
   ]
  },
  {
   "cell_type": "code",
   "execution_count": 27,
   "metadata": {},
   "outputs": [
    {
     "name": "stdout",
     "output_type": "stream",
     "text": [
      "1    a\n",
      "3    b\n",
      "4    c\n",
      "5    d\n",
      "6    e\n",
      "7    f\n",
      "dtype: object\n",
      "b\n",
      "\n",
      "a\n",
      "\n",
      "a\n"
     ]
    }
   ],
   "source": [
    "print(idata)\n",
    "print(idata.iloc[1])     # implicit \n",
    "print()\n",
    "print(idata[1])          # this is explicit index which is equivalent to idata.loc[1]\n",
    "print()\n",
    "print(idata.loc[1])      # explicit"
   ]
  },
  {
   "cell_type": "code",
   "execution_count": 28,
   "metadata": {},
   "outputs": [
    {
     "data": {
      "text/plain": [
       "3    b\n",
       "4    c\n",
       "5    d\n",
       "dtype: object"
      ]
     },
     "execution_count": 28,
     "metadata": {},
     "output_type": "execute_result"
    }
   ],
   "source": [
    "idata.iloc[1:4]"
   ]
  },
  {
   "cell_type": "code",
   "execution_count": 29,
   "metadata": {},
   "outputs": [
    {
     "name": "stdout",
     "output_type": "stream",
     "text": [
      "1    a\n",
      "3    b\n",
      "4    c\n",
      "5    d\n",
      "6    e\n",
      "7    f\n",
      "dtype: object\n",
      "5    d\n",
      "6    e\n",
      "7    f\n",
      "dtype: object\n",
      "5    d\n",
      "6    e\n",
      "7    f\n",
      "dtype: object\n"
     ]
    }
   ],
   "source": [
    "print(idata)\n",
    "print(idata[3:6])         # implicit index without loc : also final index is excluded\n",
    "print(idata.iloc[3:6])    # iloc works like implicit index so iloc is meant for implicit index preservation"
   ]
  },
  {
   "cell_type": "code",
   "execution_count": null,
   "metadata": {},
   "outputs": [],
   "source": [
    "# Without loc\n",
    "# Make a Note: --> # explicit index when indexing \n",
    "#              --> # implicit index when slicing\n",
    "# With loc\n",
    "# --> # The 'loc' attribute allows indexing and slicing that always references the explicit index.\n",
    "# With iloc\n",
    "# --> # The 'iloc' attribute on the other hand allows indexing and slicing that always references implicit Python-style index"
   ]
  },
  {
   "cell_type": "markdown",
   "metadata": {},
   "source": [
    "## Data Selection in DataFrame"
   ]
  },
  {
   "cell_type": "markdown",
   "metadata": {},
   "source": [
    "#### DataFrame as a dictionary"
   ]
  },
  {
   "cell_type": "code",
   "execution_count": 30,
   "metadata": {},
   "outputs": [],
   "source": [
    "import pandas as pd"
   ]
  },
  {
   "cell_type": "code",
   "execution_count": 31,
   "metadata": {},
   "outputs": [],
   "source": [
    "states_capitals = {'Karnataka':'Bangalore', 'Andrapradesh':'Hyderabad', 'Tamilnadu':'Chennai', \n",
    "                   'Keral':'Thiruvanathapuram', 'Maharastra':'Mumbai'}"
   ]
  },
  {
   "cell_type": "code",
   "execution_count": 32,
   "metadata": {},
   "outputs": [],
   "source": [
    "states_lang = {'Karnataka':'Kannada', 'Andrapradesh':'Telugu', 'Tamilnadu':'Tamil', 'Kerala':'Malayalam', \n",
    "              'Maharastra':'hindi', 'Panjab':'Panjabi'}"
   ]
  },
  {
   "cell_type": "code",
   "execution_count": 33,
   "metadata": {},
   "outputs": [
    {
     "data": {
      "text/html": [
       "<div>\n",
       "<style scoped>\n",
       "    .dataframe tbody tr th:only-of-type {\n",
       "        vertical-align: middle;\n",
       "    }\n",
       "\n",
       "    .dataframe tbody tr th {\n",
       "        vertical-align: top;\n",
       "    }\n",
       "\n",
       "    .dataframe thead th {\n",
       "        text-align: right;\n",
       "    }\n",
       "</style>\n",
       "<table border=\"1\" class=\"dataframe\">\n",
       "  <thead>\n",
       "    <tr style=\"text-align: right;\">\n",
       "      <th></th>\n",
       "      <th>capitals</th>\n",
       "      <th>language</th>\n",
       "    </tr>\n",
       "  </thead>\n",
       "  <tbody>\n",
       "    <tr>\n",
       "      <th>Karnataka</th>\n",
       "      <td>Bangalore</td>\n",
       "      <td>Kannada</td>\n",
       "    </tr>\n",
       "    <tr>\n",
       "      <th>Andrapradesh</th>\n",
       "      <td>Hyderabad</td>\n",
       "      <td>Telugu</td>\n",
       "    </tr>\n",
       "    <tr>\n",
       "      <th>Tamilnadu</th>\n",
       "      <td>Chennai</td>\n",
       "      <td>Tamil</td>\n",
       "    </tr>\n",
       "    <tr>\n",
       "      <th>Keral</th>\n",
       "      <td>Thiruvanathapuram</td>\n",
       "      <td>NaN</td>\n",
       "    </tr>\n",
       "    <tr>\n",
       "      <th>Maharastra</th>\n",
       "      <td>Mumbai</td>\n",
       "      <td>hindi</td>\n",
       "    </tr>\n",
       "    <tr>\n",
       "      <th>Kerala</th>\n",
       "      <td>NaN</td>\n",
       "      <td>Malayalam</td>\n",
       "    </tr>\n",
       "    <tr>\n",
       "      <th>Panjab</th>\n",
       "      <td>NaN</td>\n",
       "      <td>Panjabi</td>\n",
       "    </tr>\n",
       "  </tbody>\n",
       "</table>\n",
       "</div>"
      ],
      "text/plain": [
       "                       capitals   language\n",
       "Karnataka             Bangalore    Kannada\n",
       "Andrapradesh          Hyderabad     Telugu\n",
       "Tamilnadu               Chennai      Tamil\n",
       "Keral         Thiruvanathapuram        NaN\n",
       "Maharastra               Mumbai      hindi\n",
       "Kerala                      NaN  Malayalam\n",
       "Panjab                      NaN    Panjabi"
      ]
     },
     "execution_count": 33,
     "metadata": {},
     "output_type": "execute_result"
    }
   ],
   "source": [
    "data = pd.DataFrame({'capitals': states_capitals, 'language': states_lang})\n",
    "data"
   ]
  },
  {
   "cell_type": "code",
   "execution_count": 34,
   "metadata": {},
   "outputs": [
    {
     "data": {
      "text/plain": [
       "Karnataka               Bangalore\n",
       "Andrapradesh            Hyderabad\n",
       "Tamilnadu                 Chennai\n",
       "Keral           Thiruvanathapuram\n",
       "Maharastra                 Mumbai\n",
       "Kerala                        NaN\n",
       "Panjab                        NaN\n",
       "Name: capitals, dtype: object"
      ]
     },
     "execution_count": 34,
     "metadata": {},
     "output_type": "execute_result"
    }
   ],
   "source": [
    "data['capitals']"
   ]
  },
  {
   "cell_type": "code",
   "execution_count": 35,
   "metadata": {},
   "outputs": [
    {
     "data": {
      "text/plain": [
       "Karnataka               Bangalore\n",
       "Andrapradesh            Hyderabad\n",
       "Tamilnadu                 Chennai\n",
       "Keral           Thiruvanathapuram\n",
       "Maharastra                 Mumbai\n",
       "Kerala                        NaN\n",
       "Panjab                        NaN\n",
       "Name: capitals, dtype: object"
      ]
     },
     "execution_count": 35,
     "metadata": {},
     "output_type": "execute_result"
    }
   ],
   "source": [
    "data.capitals"
   ]
  },
  {
   "cell_type": "code",
   "execution_count": 36,
   "metadata": {},
   "outputs": [
    {
     "data": {
      "text/plain": [
       "True"
      ]
     },
     "execution_count": 36,
     "metadata": {},
     "output_type": "execute_result"
    }
   ],
   "source": [
    "data['capitals'] is data.capitals"
   ]
  },
  {
   "cell_type": "code",
   "execution_count": 37,
   "metadata": {},
   "outputs": [
    {
     "data": {
      "text/html": [
       "<div>\n",
       "<style scoped>\n",
       "    .dataframe tbody tr th:only-of-type {\n",
       "        vertical-align: middle;\n",
       "    }\n",
       "\n",
       "    .dataframe tbody tr th {\n",
       "        vertical-align: top;\n",
       "    }\n",
       "\n",
       "    .dataframe thead th {\n",
       "        text-align: right;\n",
       "    }\n",
       "</style>\n",
       "<table border=\"1\" class=\"dataframe\">\n",
       "  <thead>\n",
       "    <tr style=\"text-align: right;\">\n",
       "      <th></th>\n",
       "      <th>Sub</th>\n",
       "      <th>T_m</th>\n",
       "      <th>Min_m</th>\n",
       "      <th>O_m</th>\n",
       "    </tr>\n",
       "  </thead>\n",
       "  <tbody>\n",
       "    <tr>\n",
       "      <th>Pruthvi</th>\n",
       "      <td>Kannada</td>\n",
       "      <td>60</td>\n",
       "      <td>30</td>\n",
       "      <td>25</td>\n",
       "    </tr>\n",
       "    <tr>\n",
       "      <th>Pranam</th>\n",
       "      <td>Hindi</td>\n",
       "      <td>60</td>\n",
       "      <td>30</td>\n",
       "      <td>35</td>\n",
       "    </tr>\n",
       "    <tr>\n",
       "      <th>Pratham</th>\n",
       "      <td>English</td>\n",
       "      <td>60</td>\n",
       "      <td>30</td>\n",
       "      <td>40</td>\n",
       "    </tr>\n",
       "    <tr>\n",
       "      <th>Pravera</th>\n",
       "      <td>Maths</td>\n",
       "      <td>60</td>\n",
       "      <td>30</td>\n",
       "      <td>60</td>\n",
       "    </tr>\n",
       "    <tr>\n",
       "      <th>Prabu</th>\n",
       "      <td>Science</td>\n",
       "      <td>60</td>\n",
       "      <td>30</td>\n",
       "      <td>55</td>\n",
       "    </tr>\n",
       "  </tbody>\n",
       "</table>\n",
       "</div>"
      ],
      "text/plain": [
       "             Sub  T_m  Min_m  O_m\n",
       "Pruthvi  Kannada   60     30   25\n",
       "Pranam     Hindi   60     30   35\n",
       "Pratham  English   60     30   40\n",
       "Pravera    Maths   60     30   60\n",
       "Prabu    Science   60     30   55"
      ]
     },
     "execution_count": 37,
     "metadata": {},
     "output_type": "execute_result"
    }
   ],
   "source": [
    "s_sub = pd.Series({'Pruthvi': 'Kannada', 'Pranam': 'Hindi', 'Pratham':'English', 'Pravera':'Maths', 'Prabu':'Science'})\n",
    "total_m = pd.Series({'Pruthvi': 60, 'Pranam': 60, 'Pratham':60, 'Pravera':60, 'Prabu':60})\n",
    "minf_m = pd.Series({'Pruthvi': 30, 'Pranam': 30, 'Pratham':30, 'Pravera':30, 'Prabu':30})\n",
    "obt_m = pd.Series({'Pruthvi': 25, 'Pranam': 35, 'Pratham':40, 'Pravera':60, 'Prabu':55})\n",
    "\n",
    "students_d = pd.DataFrame({'Sub' : s_sub, 'T_m' : total_m, 'Min_m' : minf_m, 'O_m' : obt_m})\n",
    "students_d"
   ]
  },
  {
   "cell_type": "code",
   "execution_count": 38,
   "metadata": {},
   "outputs": [
    {
     "data": {
      "text/html": [
       "<div>\n",
       "<style scoped>\n",
       "    .dataframe tbody tr th:only-of-type {\n",
       "        vertical-align: middle;\n",
       "    }\n",
       "\n",
       "    .dataframe tbody tr th {\n",
       "        vertical-align: top;\n",
       "    }\n",
       "\n",
       "    .dataframe thead th {\n",
       "        text-align: right;\n",
       "    }\n",
       "</style>\n",
       "<table border=\"1\" class=\"dataframe\">\n",
       "  <thead>\n",
       "    <tr style=\"text-align: right;\">\n",
       "      <th></th>\n",
       "      <th>Sub</th>\n",
       "      <th>T_m</th>\n",
       "      <th>Min_m</th>\n",
       "      <th>O_m</th>\n",
       "      <th>score</th>\n",
       "    </tr>\n",
       "  </thead>\n",
       "  <tbody>\n",
       "    <tr>\n",
       "      <th>Pruthvi</th>\n",
       "      <td>Kannada</td>\n",
       "      <td>60</td>\n",
       "      <td>30</td>\n",
       "      <td>25</td>\n",
       "      <td>0.416667</td>\n",
       "    </tr>\n",
       "    <tr>\n",
       "      <th>Pranam</th>\n",
       "      <td>Hindi</td>\n",
       "      <td>60</td>\n",
       "      <td>30</td>\n",
       "      <td>35</td>\n",
       "      <td>0.583333</td>\n",
       "    </tr>\n",
       "    <tr>\n",
       "      <th>Pratham</th>\n",
       "      <td>English</td>\n",
       "      <td>60</td>\n",
       "      <td>30</td>\n",
       "      <td>40</td>\n",
       "      <td>0.666667</td>\n",
       "    </tr>\n",
       "    <tr>\n",
       "      <th>Pravera</th>\n",
       "      <td>Maths</td>\n",
       "      <td>60</td>\n",
       "      <td>30</td>\n",
       "      <td>60</td>\n",
       "      <td>1.000000</td>\n",
       "    </tr>\n",
       "    <tr>\n",
       "      <th>Prabu</th>\n",
       "      <td>Science</td>\n",
       "      <td>60</td>\n",
       "      <td>30</td>\n",
       "      <td>55</td>\n",
       "      <td>0.916667</td>\n",
       "    </tr>\n",
       "  </tbody>\n",
       "</table>\n",
       "</div>"
      ],
      "text/plain": [
       "             Sub  T_m  Min_m  O_m     score\n",
       "Pruthvi  Kannada   60     30   25  0.416667\n",
       "Pranam     Hindi   60     30   35  0.583333\n",
       "Pratham  English   60     30   40  0.666667\n",
       "Pravera    Maths   60     30   60  1.000000\n",
       "Prabu    Science   60     30   55  0.916667"
      ]
     },
     "execution_count": 38,
     "metadata": {},
     "output_type": "execute_result"
    }
   ],
   "source": [
    "students_d['score'] = students_d['O_m'] / students_d['T_m']\n",
    "students_d"
   ]
  },
  {
   "cell_type": "code",
   "execution_count": 39,
   "metadata": {},
   "outputs": [
    {
     "data": {
      "text/html": [
       "<div>\n",
       "<style scoped>\n",
       "    .dataframe tbody tr th:only-of-type {\n",
       "        vertical-align: middle;\n",
       "    }\n",
       "\n",
       "    .dataframe tbody tr th {\n",
       "        vertical-align: top;\n",
       "    }\n",
       "\n",
       "    .dataframe thead th {\n",
       "        text-align: right;\n",
       "    }\n",
       "</style>\n",
       "<table border=\"1\" class=\"dataframe\">\n",
       "  <thead>\n",
       "    <tr style=\"text-align: right;\">\n",
       "      <th></th>\n",
       "      <th>Sub</th>\n",
       "      <th>T_m</th>\n",
       "      <th>Min_m</th>\n",
       "      <th>O_m</th>\n",
       "      <th>score</th>\n",
       "      <th>mp_score</th>\n",
       "    </tr>\n",
       "  </thead>\n",
       "  <tbody>\n",
       "    <tr>\n",
       "      <th>Pruthvi</th>\n",
       "      <td>Kannada</td>\n",
       "      <td>60</td>\n",
       "      <td>30</td>\n",
       "      <td>25</td>\n",
       "      <td>0.416667</td>\n",
       "      <td>0.5</td>\n",
       "    </tr>\n",
       "    <tr>\n",
       "      <th>Pranam</th>\n",
       "      <td>Hindi</td>\n",
       "      <td>60</td>\n",
       "      <td>30</td>\n",
       "      <td>35</td>\n",
       "      <td>0.583333</td>\n",
       "      <td>0.5</td>\n",
       "    </tr>\n",
       "    <tr>\n",
       "      <th>Pratham</th>\n",
       "      <td>English</td>\n",
       "      <td>60</td>\n",
       "      <td>30</td>\n",
       "      <td>40</td>\n",
       "      <td>0.666667</td>\n",
       "      <td>0.5</td>\n",
       "    </tr>\n",
       "    <tr>\n",
       "      <th>Pravera</th>\n",
       "      <td>Maths</td>\n",
       "      <td>60</td>\n",
       "      <td>30</td>\n",
       "      <td>60</td>\n",
       "      <td>1.000000</td>\n",
       "      <td>0.5</td>\n",
       "    </tr>\n",
       "    <tr>\n",
       "      <th>Prabu</th>\n",
       "      <td>Science</td>\n",
       "      <td>60</td>\n",
       "      <td>30</td>\n",
       "      <td>55</td>\n",
       "      <td>0.916667</td>\n",
       "      <td>0.5</td>\n",
       "    </tr>\n",
       "  </tbody>\n",
       "</table>\n",
       "</div>"
      ],
      "text/plain": [
       "             Sub  T_m  Min_m  O_m     score  mp_score\n",
       "Pruthvi  Kannada   60     30   25  0.416667       0.5\n",
       "Pranam     Hindi   60     30   35  0.583333       0.5\n",
       "Pratham  English   60     30   40  0.666667       0.5\n",
       "Pravera    Maths   60     30   60  1.000000       0.5\n",
       "Prabu    Science   60     30   55  0.916667       0.5"
      ]
     },
     "execution_count": 39,
     "metadata": {},
     "output_type": "execute_result"
    }
   ],
   "source": [
    "students_d['mp_score'] = students_d['Min_m'] / students_d['T_m']\n",
    "students_d"
   ]
  },
  {
   "cell_type": "markdown",
   "metadata": {},
   "source": [
    "#### DataFrame as two-dimensional array"
   ]
  },
  {
   "cell_type": "code",
   "execution_count": 40,
   "metadata": {},
   "outputs": [
    {
     "name": "stdout",
     "output_type": "stream",
     "text": [
      "             Sub  T_m  Min_m  O_m     score  mp_score\n",
      "Pruthvi  Kannada   60     30   25  0.416667       0.5\n",
      "Pranam     Hindi   60     30   35  0.583333       0.5\n",
      "Pratham  English   60     30   40  0.666667       0.5\n",
      "Pravera    Maths   60     30   60  1.000000       0.5\n",
      "Prabu    Science   60     30   55  0.916667       0.5\n"
     ]
    },
    {
     "data": {
      "text/plain": [
       "array([['Kannada', 60, 30, 25, 0.4166666666666667, 0.5],\n",
       "       ['Hindi', 60, 30, 35, 0.5833333333333334, 0.5],\n",
       "       ['English', 60, 30, 40, 0.6666666666666666, 0.5],\n",
       "       ['Maths', 60, 30, 60, 1.0, 0.5],\n",
       "       ['Science', 60, 30, 55, 0.9166666666666666, 0.5]], dtype=object)"
      ]
     },
     "execution_count": 40,
     "metadata": {},
     "output_type": "execute_result"
    }
   ],
   "source": [
    "print(students_d)\n",
    "students_d.values"
   ]
  },
  {
   "cell_type": "code",
   "execution_count": null,
   "metadata": {},
   "outputs": [],
   "source": [
    "pd.DataFrame.T?"
   ]
  },
  {
   "cell_type": "code",
   "execution_count": 41,
   "metadata": {},
   "outputs": [
    {
     "data": {
      "text/html": [
       "<div>\n",
       "<style scoped>\n",
       "    .dataframe tbody tr th:only-of-type {\n",
       "        vertical-align: middle;\n",
       "    }\n",
       "\n",
       "    .dataframe tbody tr th {\n",
       "        vertical-align: top;\n",
       "    }\n",
       "\n",
       "    .dataframe thead th {\n",
       "        text-align: right;\n",
       "    }\n",
       "</style>\n",
       "<table border=\"1\" class=\"dataframe\">\n",
       "  <thead>\n",
       "    <tr style=\"text-align: right;\">\n",
       "      <th></th>\n",
       "      <th>Pruthvi</th>\n",
       "      <th>Pranam</th>\n",
       "      <th>Pratham</th>\n",
       "      <th>Pravera</th>\n",
       "      <th>Prabu</th>\n",
       "    </tr>\n",
       "  </thead>\n",
       "  <tbody>\n",
       "    <tr>\n",
       "      <th>Sub</th>\n",
       "      <td>Kannada</td>\n",
       "      <td>Hindi</td>\n",
       "      <td>English</td>\n",
       "      <td>Maths</td>\n",
       "      <td>Science</td>\n",
       "    </tr>\n",
       "    <tr>\n",
       "      <th>T_m</th>\n",
       "      <td>60</td>\n",
       "      <td>60</td>\n",
       "      <td>60</td>\n",
       "      <td>60</td>\n",
       "      <td>60</td>\n",
       "    </tr>\n",
       "    <tr>\n",
       "      <th>Min_m</th>\n",
       "      <td>30</td>\n",
       "      <td>30</td>\n",
       "      <td>30</td>\n",
       "      <td>30</td>\n",
       "      <td>30</td>\n",
       "    </tr>\n",
       "    <tr>\n",
       "      <th>O_m</th>\n",
       "      <td>25</td>\n",
       "      <td>35</td>\n",
       "      <td>40</td>\n",
       "      <td>60</td>\n",
       "      <td>55</td>\n",
       "    </tr>\n",
       "    <tr>\n",
       "      <th>score</th>\n",
       "      <td>0.416667</td>\n",
       "      <td>0.583333</td>\n",
       "      <td>0.666667</td>\n",
       "      <td>1.0</td>\n",
       "      <td>0.916667</td>\n",
       "    </tr>\n",
       "    <tr>\n",
       "      <th>mp_score</th>\n",
       "      <td>0.5</td>\n",
       "      <td>0.5</td>\n",
       "      <td>0.5</td>\n",
       "      <td>0.5</td>\n",
       "      <td>0.5</td>\n",
       "    </tr>\n",
       "  </tbody>\n",
       "</table>\n",
       "</div>"
      ],
      "text/plain": [
       "           Pruthvi    Pranam   Pratham Pravera     Prabu\n",
       "Sub        Kannada     Hindi   English   Maths   Science\n",
       "T_m             60        60        60      60        60\n",
       "Min_m           30        30        30      30        30\n",
       "O_m             25        35        40      60        55\n",
       "score     0.416667  0.583333  0.666667     1.0  0.916667\n",
       "mp_score       0.5       0.5       0.5     0.5       0.5"
      ]
     },
     "execution_count": 41,
     "metadata": {},
     "output_type": "execute_result"
    }
   ],
   "source": [
    "students_d.T"
   ]
  },
  {
   "cell_type": "code",
   "execution_count": 42,
   "metadata": {},
   "outputs": [
    {
     "data": {
      "text/plain": [
       "array(['Kannada', 60, 30, 25, 0.4166666666666667, 0.5], dtype=object)"
      ]
     },
     "execution_count": 42,
     "metadata": {},
     "output_type": "execute_result"
    }
   ],
   "source": [
    "students_d.values[0]"
   ]
  },
  {
   "cell_type": "code",
   "execution_count": 43,
   "metadata": {},
   "outputs": [
    {
     "data": {
      "text/plain": [
       "array(['Hindi', 60, 30, 35, 0.5833333333333334, 0.5], dtype=object)"
      ]
     },
     "execution_count": 43,
     "metadata": {},
     "output_type": "execute_result"
    }
   ],
   "source": [
    "students_d.values[1]"
   ]
  },
  {
   "cell_type": "code",
   "execution_count": 44,
   "metadata": {},
   "outputs": [
    {
     "data": {
      "text/plain": [
       "Pruthvi    0.416667\n",
       "Pranam     0.583333\n",
       "Pratham    0.666667\n",
       "Pravera    1.000000\n",
       "Prabu      0.916667\n",
       "Name: score, dtype: float64"
      ]
     },
     "execution_count": 44,
     "metadata": {},
     "output_type": "execute_result"
    }
   ],
   "source": [
    "students_d['score']"
   ]
  },
  {
   "cell_type": "code",
   "execution_count": 45,
   "metadata": {},
   "outputs": [
    {
     "data": {
      "text/plain": [
       "Pruthvi    60\n",
       "Pranam     60\n",
       "Pratham    60\n",
       "Pravera    60\n",
       "Prabu      60\n",
       "Name: T_m, dtype: int64"
      ]
     },
     "execution_count": 45,
     "metadata": {},
     "output_type": "execute_result"
    }
   ],
   "source": [
    "students_d['T_m']"
   ]
  },
  {
   "cell_type": "code",
   "execution_count": 46,
   "metadata": {},
   "outputs": [
    {
     "data": {
      "text/html": [
       "<div>\n",
       "<style scoped>\n",
       "    .dataframe tbody tr th:only-of-type {\n",
       "        vertical-align: middle;\n",
       "    }\n",
       "\n",
       "    .dataframe tbody tr th {\n",
       "        vertical-align: top;\n",
       "    }\n",
       "\n",
       "    .dataframe thead th {\n",
       "        text-align: right;\n",
       "    }\n",
       "</style>\n",
       "<table border=\"1\" class=\"dataframe\">\n",
       "  <thead>\n",
       "    <tr style=\"text-align: right;\">\n",
       "      <th></th>\n",
       "      <th>Sub</th>\n",
       "      <th>T_m</th>\n",
       "      <th>Min_m</th>\n",
       "      <th>O_m</th>\n",
       "      <th>score</th>\n",
       "      <th>mp_score</th>\n",
       "    </tr>\n",
       "  </thead>\n",
       "  <tbody>\n",
       "    <tr>\n",
       "      <th>Pruthvi</th>\n",
       "      <td>Kannada</td>\n",
       "      <td>60</td>\n",
       "      <td>30</td>\n",
       "      <td>25</td>\n",
       "      <td>0.416667</td>\n",
       "      <td>0.5</td>\n",
       "    </tr>\n",
       "    <tr>\n",
       "      <th>Pranam</th>\n",
       "      <td>Hindi</td>\n",
       "      <td>60</td>\n",
       "      <td>30</td>\n",
       "      <td>35</td>\n",
       "      <td>0.583333</td>\n",
       "      <td>0.5</td>\n",
       "    </tr>\n",
       "    <tr>\n",
       "      <th>Pratham</th>\n",
       "      <td>English</td>\n",
       "      <td>60</td>\n",
       "      <td>30</td>\n",
       "      <td>40</td>\n",
       "      <td>0.666667</td>\n",
       "      <td>0.5</td>\n",
       "    </tr>\n",
       "    <tr>\n",
       "      <th>Pravera</th>\n",
       "      <td>Maths</td>\n",
       "      <td>60</td>\n",
       "      <td>30</td>\n",
       "      <td>60</td>\n",
       "      <td>1.000000</td>\n",
       "      <td>0.5</td>\n",
       "    </tr>\n",
       "    <tr>\n",
       "      <th>Prabu</th>\n",
       "      <td>Science</td>\n",
       "      <td>60</td>\n",
       "      <td>30</td>\n",
       "      <td>55</td>\n",
       "      <td>0.916667</td>\n",
       "      <td>0.5</td>\n",
       "    </tr>\n",
       "  </tbody>\n",
       "</table>\n",
       "</div>"
      ],
      "text/plain": [
       "             Sub  T_m  Min_m  O_m     score  mp_score\n",
       "Pruthvi  Kannada   60     30   25  0.416667       0.5\n",
       "Pranam     Hindi   60     30   35  0.583333       0.5\n",
       "Pratham  English   60     30   40  0.666667       0.5\n",
       "Pravera    Maths   60     30   60  1.000000       0.5\n",
       "Prabu    Science   60     30   55  0.916667       0.5"
      ]
     },
     "execution_count": 46,
     "metadata": {},
     "output_type": "execute_result"
    }
   ],
   "source": [
    "students_d"
   ]
  },
  {
   "cell_type": "code",
   "execution_count": 47,
   "metadata": {},
   "outputs": [
    {
     "data": {
      "text/html": [
       "<div>\n",
       "<style scoped>\n",
       "    .dataframe tbody tr th:only-of-type {\n",
       "        vertical-align: middle;\n",
       "    }\n",
       "\n",
       "    .dataframe tbody tr th {\n",
       "        vertical-align: top;\n",
       "    }\n",
       "\n",
       "    .dataframe thead th {\n",
       "        text-align: right;\n",
       "    }\n",
       "</style>\n",
       "<table border=\"1\" class=\"dataframe\">\n",
       "  <thead>\n",
       "    <tr style=\"text-align: right;\">\n",
       "      <th></th>\n",
       "      <th>Sub</th>\n",
       "      <th>T_m</th>\n",
       "      <th>Min_m</th>\n",
       "      <th>O_m</th>\n",
       "      <th>score</th>\n",
       "      <th>mp_score</th>\n",
       "    </tr>\n",
       "  </thead>\n",
       "  <tbody>\n",
       "    <tr>\n",
       "      <th>Pranam</th>\n",
       "      <td>Hindi</td>\n",
       "      <td>60</td>\n",
       "      <td>30</td>\n",
       "      <td>35</td>\n",
       "      <td>0.583333</td>\n",
       "      <td>0.5</td>\n",
       "    </tr>\n",
       "    <tr>\n",
       "      <th>Pratham</th>\n",
       "      <td>English</td>\n",
       "      <td>60</td>\n",
       "      <td>30</td>\n",
       "      <td>40</td>\n",
       "      <td>0.666667</td>\n",
       "      <td>0.5</td>\n",
       "    </tr>\n",
       "  </tbody>\n",
       "</table>\n",
       "</div>"
      ],
      "text/plain": [
       "             Sub  T_m  Min_m  O_m     score  mp_score\n",
       "Pranam     Hindi   60     30   35  0.583333       0.5\n",
       "Pratham  English   60     30   40  0.666667       0.5"
      ]
     },
     "execution_count": 47,
     "metadata": {},
     "output_type": "execute_result"
    }
   ],
   "source": [
    "students_d[1:3]"
   ]
  },
  {
   "cell_type": "code",
   "execution_count": 48,
   "metadata": {},
   "outputs": [
    {
     "data": {
      "text/html": [
       "<div>\n",
       "<style scoped>\n",
       "    .dataframe tbody tr th:only-of-type {\n",
       "        vertical-align: middle;\n",
       "    }\n",
       "\n",
       "    .dataframe tbody tr th {\n",
       "        vertical-align: top;\n",
       "    }\n",
       "\n",
       "    .dataframe thead th {\n",
       "        text-align: right;\n",
       "    }\n",
       "</style>\n",
       "<table border=\"1\" class=\"dataframe\">\n",
       "  <thead>\n",
       "    <tr style=\"text-align: right;\">\n",
       "      <th></th>\n",
       "      <th>Sub</th>\n",
       "      <th>T_m</th>\n",
       "      <th>Min_m</th>\n",
       "      <th>O_m</th>\n",
       "      <th>score</th>\n",
       "      <th>mp_score</th>\n",
       "    </tr>\n",
       "  </thead>\n",
       "  <tbody>\n",
       "    <tr>\n",
       "      <th>Pranam</th>\n",
       "      <td>Hindi</td>\n",
       "      <td>60</td>\n",
       "      <td>30</td>\n",
       "      <td>35</td>\n",
       "      <td>0.583333</td>\n",
       "      <td>0.5</td>\n",
       "    </tr>\n",
       "    <tr>\n",
       "      <th>Pratham</th>\n",
       "      <td>English</td>\n",
       "      <td>60</td>\n",
       "      <td>30</td>\n",
       "      <td>40</td>\n",
       "      <td>0.666667</td>\n",
       "      <td>0.5</td>\n",
       "    </tr>\n",
       "    <tr>\n",
       "      <th>Pravera</th>\n",
       "      <td>Maths</td>\n",
       "      <td>60</td>\n",
       "      <td>30</td>\n",
       "      <td>60</td>\n",
       "      <td>1.000000</td>\n",
       "      <td>0.5</td>\n",
       "    </tr>\n",
       "  </tbody>\n",
       "</table>\n",
       "</div>"
      ],
      "text/plain": [
       "             Sub  T_m  Min_m  O_m     score  mp_score\n",
       "Pranam     Hindi   60     30   35  0.583333       0.5\n",
       "Pratham  English   60     30   40  0.666667       0.5\n",
       "Pravera    Maths   60     30   60  1.000000       0.5"
      ]
     },
     "execution_count": 48,
     "metadata": {},
     "output_type": "execute_result"
    }
   ],
   "source": [
    "students_d['Pranam':'Pravera']"
   ]
  },
  {
   "cell_type": "markdown",
   "metadata": {},
   "source": [
    "#### Accessing DF Objects Using loc, iloc, and ix"
   ]
  },
  {
   "cell_type": "code",
   "execution_count": 49,
   "metadata": {},
   "outputs": [
    {
     "name": "stdout",
     "output_type": "stream",
     "text": [
      "\u001b[1;31mType:\u001b[0m        property\n",
      "\u001b[1;31mString form:\u001b[0m <property object at 0x0000014841587C90>\n",
      "\u001b[1;31mDocstring:\u001b[0m  \n",
      "Access a group of rows and columns by label(s) or a boolean array.\n",
      "\n",
      "``.loc[]`` is primarily label based, but may also be used with a\n",
      "boolean array.\n",
      "\n",
      "Allowed inputs are:\n",
      "\n",
      "- A single label, e.g. ``5`` or ``'a'``, (note that ``5`` is\n",
      "  interpreted as a *label* of the index, and **never** as an\n",
      "  integer position along the index).\n",
      "- A list or array of labels, e.g. ``['a', 'b', 'c']``.\n",
      "- A slice object with labels, e.g. ``'a':'f'``.\n",
      "\n",
      "  .. warning:: Note that contrary to usual python slices, **both** the\n",
      "      start and the stop are included\n",
      "\n",
      "- A boolean array of the same length as the axis being sliced,\n",
      "  e.g. ``[True, False, True]``.\n",
      "- An alignable boolean Series. The index of the key will be aligned before\n",
      "  masking.\n",
      "- An alignable Index. The Index of the returned selection will be the input.\n",
      "- A ``callable`` function with one argument (the calling Series or\n",
      "  DataFrame) and that returns valid output for indexing (one of the above)\n",
      "\n",
      "See more at :ref:`Selection by Label <indexing.label>`.\n",
      "\n",
      "Raises\n",
      "------\n",
      "KeyError\n",
      "    If any items are not found.\n",
      "IndexingError\n",
      "    If an indexed key is passed and its index is unalignable to the frame index.\n",
      "\n",
      "See Also\n",
      "--------\n",
      "DataFrame.at : Access a single value for a row/column label pair.\n",
      "DataFrame.iloc : Access group of rows and columns by integer position(s).\n",
      "DataFrame.xs : Returns a cross-section (row(s) or column(s)) from the\n",
      "               Series/DataFrame.\n",
      "Series.loc : Access group of values using labels.\n",
      "\n",
      "Examples\n",
      "--------\n",
      "**Getting values**\n",
      "\n",
      ">>> df = pd.DataFrame([[1, 2], [4, 5], [7, 8]],\n",
      "...                   index=['cobra', 'viper', 'sidewinder'],\n",
      "...                   columns=['max_speed', 'shield'])\n",
      ">>> df\n",
      "            max_speed  shield\n",
      "cobra               1       2\n",
      "viper               4       5\n",
      "sidewinder          7       8\n",
      "\n",
      "Single label. Note this returns the row as a Series.\n",
      "\n",
      ">>> df.loc['viper']\n",
      "max_speed    4\n",
      "shield       5\n",
      "Name: viper, dtype: int64\n",
      "\n",
      "List of labels. Note using ``[[]]`` returns a DataFrame.\n",
      "\n",
      ">>> df.loc[['viper', 'sidewinder']]\n",
      "            max_speed  shield\n",
      "viper               4       5\n",
      "sidewinder          7       8\n",
      "\n",
      "Single label for row and column\n",
      "\n",
      ">>> df.loc['cobra', 'shield']\n",
      "2\n",
      "\n",
      "Slice with labels for row and single label for column. As mentioned\n",
      "above, note that both the start and stop of the slice are included.\n",
      "\n",
      ">>> df.loc['cobra':'viper', 'max_speed']\n",
      "cobra    1\n",
      "viper    4\n",
      "Name: max_speed, dtype: int64\n",
      "\n",
      "Boolean list with the same length as the row axis\n",
      "\n",
      ">>> df.loc[[False, False, True]]\n",
      "            max_speed  shield\n",
      "sidewinder          7       8\n",
      "\n",
      "Alignable boolean Series:\n",
      "\n",
      ">>> df.loc[pd.Series([False, True, False],\n",
      "...                  index=['viper', 'sidewinder', 'cobra'])]\n",
      "                     max_speed  shield\n",
      "sidewinder          7       8\n",
      "\n",
      "Index (same behavior as ``df.reindex``)\n",
      "\n",
      ">>> df.loc[pd.Index([\"cobra\", \"viper\"], name=\"foo\")]\n",
      "       max_speed  shield\n",
      "foo\n",
      "cobra          1       2\n",
      "viper          4       5\n",
      "\n",
      "Conditional that returns a boolean Series\n",
      "\n",
      ">>> df.loc[df['shield'] > 6]\n",
      "            max_speed  shield\n",
      "sidewinder          7       8\n",
      "\n",
      "Conditional that returns a boolean Series with column labels specified\n",
      "\n",
      ">>> df.loc[df['shield'] > 6, ['max_speed']]\n",
      "            max_speed\n",
      "sidewinder          7\n",
      "\n",
      "Multiple conditional using ``&`` that returns a boolean Series\n",
      "\n",
      ">>> df.loc[(df['max_speed'] > 1) & (df['shield'] < 8)]\n",
      "            max_speed  shield\n",
      "viper          4       5\n",
      "\n",
      "Multiple conditional using ``|`` that returns a boolean Series\n",
      "\n",
      ">>> df.loc[(df['max_speed'] > 4) | (df['shield'] < 5)]\n",
      "            max_speed  shield\n",
      "cobra               1       2\n",
      "sidewinder          7       8\n",
      "\n",
      "Please ensure that each condition is wrapped in parentheses ``()``.\n",
      "See the :ref:`user guide<indexing.boolean>`\n",
      "for more details and explanations of Boolean indexing.\n",
      "\n",
      ".. note::\n",
      "    If you find yourself using 3 or more conditionals in ``.loc[]``,\n",
      "    consider using :ref:`advanced indexing<advanced.advanced_hierarchical>`.\n",
      "\n",
      "    See below for using ``.loc[]`` on MultiIndex DataFrames.\n",
      "\n",
      "Callable that returns a boolean Series\n",
      "\n",
      ">>> df.loc[lambda df: df['shield'] == 8]\n",
      "            max_speed  shield\n",
      "sidewinder          7       8\n",
      "\n",
      "**Setting values**\n",
      "\n",
      "Set value for all items matching the list of labels\n",
      "\n",
      ">>> df.loc[['viper', 'sidewinder'], ['shield']] = 50\n",
      ">>> df\n",
      "            max_speed  shield\n",
      "cobra               1       2\n",
      "viper               4      50\n",
      "sidewinder          7      50\n",
      "\n",
      "Set value for an entire row\n",
      "\n",
      ">>> df.loc['cobra'] = 10\n",
      ">>> df\n",
      "            max_speed  shield\n",
      "cobra              10      10\n",
      "viper               4      50\n",
      "sidewinder          7      50\n",
      "\n",
      "Set value for an entire column\n",
      "\n",
      ">>> df.loc[:, 'max_speed'] = 30\n",
      ">>> df\n",
      "            max_speed  shield\n",
      "cobra              30      10\n",
      "viper              30      50\n",
      "sidewinder         30      50\n",
      "\n",
      "Set value for rows matching callable condition\n",
      "\n",
      ">>> df.loc[df['shield'] > 35] = 0\n",
      ">>> df\n",
      "            max_speed  shield\n",
      "cobra              30      10\n",
      "viper               0       0\n",
      "sidewinder          0       0\n",
      "\n",
      "Add value matching location\n",
      "\n",
      ">>> df.loc[\"viper\", \"shield\"] += 5\n",
      ">>> df\n",
      "            max_speed  shield\n",
      "cobra              30      10\n",
      "viper               0       5\n",
      "sidewinder          0       0\n",
      "\n",
      "Setting using a ``Series`` or a ``DataFrame`` sets the values matching the\n",
      "index labels, not the index positions.\n",
      "\n",
      ">>> shuffled_df = df.loc[[\"viper\", \"cobra\", \"sidewinder\"]]\n",
      ">>> df.loc[:] += shuffled_df\n",
      ">>> df\n",
      "            max_speed  shield\n",
      "cobra              60      20\n",
      "viper               0      10\n",
      "sidewinder          0       0\n",
      "\n",
      "**Getting values on a DataFrame with an index that has integer labels**\n",
      "\n",
      "Another example using integers for the index\n",
      "\n",
      ">>> df = pd.DataFrame([[1, 2], [4, 5], [7, 8]],\n",
      "...                   index=[7, 8, 9], columns=['max_speed', 'shield'])\n",
      ">>> df\n",
      "   max_speed  shield\n",
      "7          1       2\n",
      "8          4       5\n",
      "9          7       8\n",
      "\n",
      "Slice with integer labels for rows. As mentioned above, note that both\n",
      "the start and stop of the slice are included.\n",
      "\n",
      ">>> df.loc[7:9]\n",
      "   max_speed  shield\n",
      "7          1       2\n",
      "8          4       5\n",
      "9          7       8\n",
      "\n",
      "**Getting values with a MultiIndex**\n",
      "\n",
      "A number of examples using a DataFrame with a MultiIndex\n",
      "\n",
      ">>> tuples = [\n",
      "...     ('cobra', 'mark i'), ('cobra', 'mark ii'),\n",
      "...     ('sidewinder', 'mark i'), ('sidewinder', 'mark ii'),\n",
      "...     ('viper', 'mark ii'), ('viper', 'mark iii')\n",
      "... ]\n",
      ">>> index = pd.MultiIndex.from_tuples(tuples)\n",
      ">>> values = [[12, 2], [0, 4], [10, 20],\n",
      "...           [1, 4], [7, 1], [16, 36]]\n",
      ">>> df = pd.DataFrame(values, columns=['max_speed', 'shield'], index=index)\n",
      ">>> df\n",
      "                     max_speed  shield\n",
      "cobra      mark i           12       2\n",
      "           mark ii           0       4\n",
      "sidewinder mark i           10      20\n",
      "           mark ii           1       4\n",
      "viper      mark ii           7       1\n",
      "           mark iii         16      36\n",
      "\n",
      "Single label. Note this returns a DataFrame with a single index.\n",
      "\n",
      ">>> df.loc['cobra']\n",
      "         max_speed  shield\n",
      "mark i          12       2\n",
      "mark ii          0       4\n",
      "\n",
      "Single index tuple. Note this returns a Series.\n",
      "\n",
      ">>> df.loc[('cobra', 'mark ii')]\n",
      "max_speed    0\n",
      "shield       4\n",
      "Name: (cobra, mark ii), dtype: int64\n",
      "\n",
      "Single label for row and column. Similar to passing in a tuple, this\n",
      "returns a Series.\n",
      "\n",
      ">>> df.loc['cobra', 'mark i']\n",
      "max_speed    12\n",
      "shield        2\n",
      "Name: (cobra, mark i), dtype: int64\n",
      "\n",
      "Single tuple. Note using ``[[]]`` returns a DataFrame.\n",
      "\n",
      ">>> df.loc[[('cobra', 'mark ii')]]\n",
      "               max_speed  shield\n",
      "cobra mark ii          0       4\n",
      "\n",
      "Single tuple for the index with a single label for the column\n",
      "\n",
      ">>> df.loc[('cobra', 'mark i'), 'shield']\n",
      "2\n",
      "\n",
      "Slice from index tuple to single label\n",
      "\n",
      ">>> df.loc[('cobra', 'mark i'):'viper']\n",
      "                     max_speed  shield\n",
      "cobra      mark i           12       2\n",
      "           mark ii           0       4\n",
      "sidewinder mark i           10      20\n",
      "           mark ii           1       4\n",
      "viper      mark ii           7       1\n",
      "           mark iii         16      36\n",
      "\n",
      "Slice from index tuple to index tuple\n",
      "\n",
      ">>> df.loc[('cobra', 'mark i'):('viper', 'mark ii')]\n",
      "                    max_speed  shield\n",
      "cobra      mark i          12       2\n",
      "           mark ii          0       4\n",
      "sidewinder mark i          10      20\n",
      "           mark ii          1       4\n",
      "viper      mark ii          7       1\n",
      "\n",
      "Please see the :ref:`user guide<advanced.advanced_hierarchical>`\n",
      "for more details and explanations of advanced indexing."
     ]
    }
   ],
   "source": [
    " pd.DataFrame.loc?"
   ]
  },
  {
   "cell_type": "code",
   "execution_count": 50,
   "metadata": {},
   "outputs": [
    {
     "name": "stdout",
     "output_type": "stream",
     "text": [
      "\u001b[1;31mType:\u001b[0m        property\n",
      "\u001b[1;31mString form:\u001b[0m <property object at 0x0000014841617650>\n",
      "\u001b[1;31mDocstring:\u001b[0m  \n",
      "Purely integer-location based indexing for selection by position.\n",
      "\n",
      ".. deprecated:: 2.2.0\n",
      "\n",
      "   Returning a tuple from a callable is deprecated.\n",
      "\n",
      "``.iloc[]`` is primarily integer position based (from ``0`` to\n",
      "``length-1`` of the axis), but may also be used with a boolean\n",
      "array.\n",
      "\n",
      "Allowed inputs are:\n",
      "\n",
      "- An integer, e.g. ``5``.\n",
      "- A list or array of integers, e.g. ``[4, 3, 0]``.\n",
      "- A slice object with ints, e.g. ``1:7``.\n",
      "- A boolean array.\n",
      "- A ``callable`` function with one argument (the calling Series or\n",
      "  DataFrame) and that returns valid output for indexing (one of the above).\n",
      "  This is useful in method chains, when you don't have a reference to the\n",
      "  calling object, but would like to base your selection on\n",
      "  some value.\n",
      "- A tuple of row and column indexes. The tuple elements consist of one of the\n",
      "  above inputs, e.g. ``(0, 1)``.\n",
      "\n",
      "``.iloc`` will raise ``IndexError`` if a requested indexer is\n",
      "out-of-bounds, except *slice* indexers which allow out-of-bounds\n",
      "indexing (this conforms with python/numpy *slice* semantics).\n",
      "\n",
      "See more at :ref:`Selection by Position <indexing.integer>`.\n",
      "\n",
      "See Also\n",
      "--------\n",
      "DataFrame.iat : Fast integer location scalar accessor.\n",
      "DataFrame.loc : Purely label-location based indexer for selection by label.\n",
      "Series.iloc : Purely integer-location based indexing for\n",
      "               selection by position.\n",
      "\n",
      "Examples\n",
      "--------\n",
      ">>> mydict = [{'a': 1, 'b': 2, 'c': 3, 'd': 4},\n",
      "...           {'a': 100, 'b': 200, 'c': 300, 'd': 400},\n",
      "...           {'a': 1000, 'b': 2000, 'c': 3000, 'd': 4000}]\n",
      ">>> df = pd.DataFrame(mydict)\n",
      ">>> df\n",
      "      a     b     c     d\n",
      "0     1     2     3     4\n",
      "1   100   200   300   400\n",
      "2  1000  2000  3000  4000\n",
      "\n",
      "**Indexing just the rows**\n",
      "\n",
      "With a scalar integer.\n",
      "\n",
      ">>> type(df.iloc[0])\n",
      "<class 'pandas.core.series.Series'>\n",
      ">>> df.iloc[0]\n",
      "a    1\n",
      "b    2\n",
      "c    3\n",
      "d    4\n",
      "Name: 0, dtype: int64\n",
      "\n",
      "With a list of integers.\n",
      "\n",
      ">>> df.iloc[[0]]\n",
      "   a  b  c  d\n",
      "0  1  2  3  4\n",
      ">>> type(df.iloc[[0]])\n",
      "<class 'pandas.core.frame.DataFrame'>\n",
      "\n",
      ">>> df.iloc[[0, 1]]\n",
      "     a    b    c    d\n",
      "0    1    2    3    4\n",
      "1  100  200  300  400\n",
      "\n",
      "With a `slice` object.\n",
      "\n",
      ">>> df.iloc[:3]\n",
      "      a     b     c     d\n",
      "0     1     2     3     4\n",
      "1   100   200   300   400\n",
      "2  1000  2000  3000  4000\n",
      "\n",
      "With a boolean mask the same length as the index.\n",
      "\n",
      ">>> df.iloc[[True, False, True]]\n",
      "      a     b     c     d\n",
      "0     1     2     3     4\n",
      "2  1000  2000  3000  4000\n",
      "\n",
      "With a callable, useful in method chains. The `x` passed\n",
      "to the ``lambda`` is the DataFrame being sliced. This selects\n",
      "the rows whose index label even.\n",
      "\n",
      ">>> df.iloc[lambda x: x.index % 2 == 0]\n",
      "      a     b     c     d\n",
      "0     1     2     3     4\n",
      "2  1000  2000  3000  4000\n",
      "\n",
      "**Indexing both axes**\n",
      "\n",
      "You can mix the indexer types for the index and columns. Use ``:`` to\n",
      "select the entire axis.\n",
      "\n",
      "With scalar integers.\n",
      "\n",
      ">>> df.iloc[0, 1]\n",
      "2\n",
      "\n",
      "With lists of integers.\n",
      "\n",
      ">>> df.iloc[[0, 2], [1, 3]]\n",
      "      b     d\n",
      "0     2     4\n",
      "2  2000  4000\n",
      "\n",
      "With `slice` objects.\n",
      "\n",
      ">>> df.iloc[1:3, 0:3]\n",
      "      a     b     c\n",
      "1   100   200   300\n",
      "2  1000  2000  3000\n",
      "\n",
      "With a boolean array whose length matches the columns.\n",
      "\n",
      ">>> df.iloc[:, [True, False, True, False]]\n",
      "      a     c\n",
      "0     1     3\n",
      "1   100   300\n",
      "2  1000  3000\n",
      "\n",
      "With a callable function that expects the Series or DataFrame.\n",
      "\n",
      ">>> df.iloc[:, lambda df: [0, 2]]\n",
      "      a     c\n",
      "0     1     3\n",
      "1   100   300\n",
      "2  1000  3000"
     ]
    }
   ],
   "source": [
    "pd.DataFrame.iloc?"
   ]
  },
  {
   "cell_type": "code",
   "execution_count": 52,
   "metadata": {},
   "outputs": [
    {
     "name": "stdout",
     "output_type": "stream",
     "text": [
      "Object `pd.DataFrame.ix` not found.\n"
     ]
    }
   ],
   "source": [
    " pd.DataFrame.ix?"
   ]
  },
  {
   "cell_type": "code",
   "execution_count": 51,
   "metadata": {},
   "outputs": [
    {
     "name": "stdout",
     "output_type": "stream",
     "text": [
      "             Sub  T_m  Min_m  O_m     score  mp_score\n",
      "Pruthvi  Kannada   60     30   25  0.416667       0.5\n",
      "Pranam     Hindi   60     30   35  0.583333       0.5\n",
      "Pratham  English   60     30   40  0.666667       0.5\n",
      "Pravera    Maths   60     30   60  1.000000       0.5\n",
      "Prabu    Science   60     30   55  0.916667       0.5\n"
     ]
    }
   ],
   "source": [
    "print(students_d)"
   ]
  },
  {
   "cell_type": "code",
   "execution_count": 53,
   "metadata": {},
   "outputs": [
    {
     "data": {
      "text/html": [
       "<div>\n",
       "<style scoped>\n",
       "    .dataframe tbody tr th:only-of-type {\n",
       "        vertical-align: middle;\n",
       "    }\n",
       "\n",
       "    .dataframe tbody tr th {\n",
       "        vertical-align: top;\n",
       "    }\n",
       "\n",
       "    .dataframe thead th {\n",
       "        text-align: right;\n",
       "    }\n",
       "</style>\n",
       "<table border=\"1\" class=\"dataframe\">\n",
       "  <thead>\n",
       "    <tr style=\"text-align: right;\">\n",
       "      <th></th>\n",
       "      <th>Sub</th>\n",
       "      <th>T_m</th>\n",
       "    </tr>\n",
       "  </thead>\n",
       "  <tbody>\n",
       "    <tr>\n",
       "      <th>Pruthvi</th>\n",
       "      <td>Kannada</td>\n",
       "      <td>60</td>\n",
       "    </tr>\n",
       "    <tr>\n",
       "      <th>Pranam</th>\n",
       "      <td>Hindi</td>\n",
       "      <td>60</td>\n",
       "    </tr>\n",
       "    <tr>\n",
       "      <th>Pratham</th>\n",
       "      <td>English</td>\n",
       "      <td>60</td>\n",
       "    </tr>\n",
       "  </tbody>\n",
       "</table>\n",
       "</div>"
      ],
      "text/plain": [
       "             Sub  T_m\n",
       "Pruthvi  Kannada   60\n",
       "Pranam     Hindi   60\n",
       "Pratham  English   60"
      ]
     },
     "execution_count": 53,
     "metadata": {},
     "output_type": "execute_result"
    }
   ],
   "source": [
    "students_d.iloc[0:3, 0:2]"
   ]
  },
  {
   "cell_type": "code",
   "execution_count": 54,
   "metadata": {},
   "outputs": [
    {
     "name": "stdout",
     "output_type": "stream",
     "text": [
      "             Sub  T_m  Min_m  O_m     score  mp_score\n",
      "Pruthvi  Kannada   60     30   25  0.416667       0.5\n",
      "Pranam     Hindi   60     30   35  0.583333       0.5\n",
      "Pratham  English   60     30   40  0.666667       0.5\n",
      "Pravera    Maths   60     30   60  1.000000       0.5\n",
      "Prabu    Science   60     30   55  0.916667       0.5\n"
     ]
    },
    {
     "data": {
      "text/html": [
       "<div>\n",
       "<style scoped>\n",
       "    .dataframe tbody tr th:only-of-type {\n",
       "        vertical-align: middle;\n",
       "    }\n",
       "\n",
       "    .dataframe tbody tr th {\n",
       "        vertical-align: top;\n",
       "    }\n",
       "\n",
       "    .dataframe thead th {\n",
       "        text-align: right;\n",
       "    }\n",
       "</style>\n",
       "<table border=\"1\" class=\"dataframe\">\n",
       "  <thead>\n",
       "    <tr style=\"text-align: right;\">\n",
       "      <th></th>\n",
       "      <th>Min_m</th>\n",
       "      <th>O_m</th>\n",
       "      <th>score</th>\n",
       "      <th>mp_score</th>\n",
       "    </tr>\n",
       "  </thead>\n",
       "  <tbody>\n",
       "    <tr>\n",
       "      <th>Pratham</th>\n",
       "      <td>30</td>\n",
       "      <td>40</td>\n",
       "      <td>0.666667</td>\n",
       "      <td>0.5</td>\n",
       "    </tr>\n",
       "    <tr>\n",
       "      <th>Pravera</th>\n",
       "      <td>30</td>\n",
       "      <td>60</td>\n",
       "      <td>1.000000</td>\n",
       "      <td>0.5</td>\n",
       "    </tr>\n",
       "    <tr>\n",
       "      <th>Prabu</th>\n",
       "      <td>30</td>\n",
       "      <td>55</td>\n",
       "      <td>0.916667</td>\n",
       "      <td>0.5</td>\n",
       "    </tr>\n",
       "  </tbody>\n",
       "</table>\n",
       "</div>"
      ],
      "text/plain": [
       "         Min_m  O_m     score  mp_score\n",
       "Pratham     30   40  0.666667       0.5\n",
       "Pravera     30   60  1.000000       0.5\n",
       "Prabu       30   55  0.916667       0.5"
      ]
     },
     "execution_count": 54,
     "metadata": {},
     "output_type": "execute_result"
    }
   ],
   "source": [
    "print(students_d)\n",
    "students_d.iloc[2:5, 2:]"
   ]
  },
  {
   "cell_type": "code",
   "execution_count": 55,
   "metadata": {},
   "outputs": [
    {
     "name": "stdout",
     "output_type": "stream",
     "text": [
      "             Sub  T_m  Min_m  O_m     score  mp_score\n",
      "Pruthvi  Kannada   60     30   25  0.416667       0.5\n",
      "Pranam     Hindi   60     30   35  0.583333       0.5\n",
      "Pratham  English   60     30   40  0.666667       0.5\n",
      "Pravera    Maths   60     30   60  1.000000       0.5\n",
      "Prabu    Science   60     30   55  0.916667       0.5\n"
     ]
    },
    {
     "data": {
      "text/html": [
       "<div>\n",
       "<style scoped>\n",
       "    .dataframe tbody tr th:only-of-type {\n",
       "        vertical-align: middle;\n",
       "    }\n",
       "\n",
       "    .dataframe tbody tr th {\n",
       "        vertical-align: top;\n",
       "    }\n",
       "\n",
       "    .dataframe thead th {\n",
       "        text-align: right;\n",
       "    }\n",
       "</style>\n",
       "<table border=\"1\" class=\"dataframe\">\n",
       "  <thead>\n",
       "    <tr style=\"text-align: right;\">\n",
       "      <th></th>\n",
       "      <th>Sub</th>\n",
       "      <th>T_m</th>\n",
       "      <th>Min_m</th>\n",
       "      <th>O_m</th>\n",
       "      <th>score</th>\n",
       "      <th>mp_score</th>\n",
       "    </tr>\n",
       "  </thead>\n",
       "  <tbody>\n",
       "    <tr>\n",
       "      <th>Pruthvi</th>\n",
       "      <td>Kannada</td>\n",
       "      <td>60</td>\n",
       "      <td>30</td>\n",
       "      <td>25</td>\n",
       "      <td>0.416667</td>\n",
       "      <td>0.5</td>\n",
       "    </tr>\n",
       "    <tr>\n",
       "      <th>Pranam</th>\n",
       "      <td>Hindi</td>\n",
       "      <td>60</td>\n",
       "      <td>30</td>\n",
       "      <td>35</td>\n",
       "      <td>0.583333</td>\n",
       "      <td>0.5</td>\n",
       "    </tr>\n",
       "    <tr>\n",
       "      <th>Pratham</th>\n",
       "      <td>English</td>\n",
       "      <td>60</td>\n",
       "      <td>30</td>\n",
       "      <td>40</td>\n",
       "      <td>0.666667</td>\n",
       "      <td>0.5</td>\n",
       "    </tr>\n",
       "    <tr>\n",
       "      <th>Pravera</th>\n",
       "      <td>Maths</td>\n",
       "      <td>60</td>\n",
       "      <td>30</td>\n",
       "      <td>60</td>\n",
       "      <td>1.000000</td>\n",
       "      <td>0.5</td>\n",
       "    </tr>\n",
       "    <tr>\n",
       "      <th>Prabu</th>\n",
       "      <td>Science</td>\n",
       "      <td>60</td>\n",
       "      <td>30</td>\n",
       "      <td>55</td>\n",
       "      <td>0.916667</td>\n",
       "      <td>0.5</td>\n",
       "    </tr>\n",
       "  </tbody>\n",
       "</table>\n",
       "</div>"
      ],
      "text/plain": [
       "             Sub  T_m  Min_m  O_m     score  mp_score\n",
       "Pruthvi  Kannada   60     30   25  0.416667       0.5\n",
       "Pranam     Hindi   60     30   35  0.583333       0.5\n",
       "Pratham  English   60     30   40  0.666667       0.5\n",
       "Pravera    Maths   60     30   60  1.000000       0.5\n",
       "Prabu    Science   60     30   55  0.916667       0.5"
      ]
     },
     "execution_count": 55,
     "metadata": {},
     "output_type": "execute_result"
    }
   ],
   "source": [
    "print(students_d)\n",
    "students_d.loc[:, :]"
   ]
  },
  {
   "cell_type": "code",
   "execution_count": 56,
   "metadata": {},
   "outputs": [
    {
     "name": "stdout",
     "output_type": "stream",
     "text": [
      "             Sub  T_m  Min_m  O_m     score  mp_score\n",
      "Pruthvi  Kannada   60     30   25  0.416667       0.5\n",
      "Pranam     Hindi   60     30   35  0.583333       0.5\n",
      "Pratham  English   60     30   40  0.666667       0.5\n",
      "Pravera    Maths   60     30   60  1.000000       0.5\n",
      "Prabu    Science   60     30   55  0.916667       0.5\n"
     ]
    },
    {
     "data": {
      "text/html": [
       "<div>\n",
       "<style scoped>\n",
       "    .dataframe tbody tr th:only-of-type {\n",
       "        vertical-align: middle;\n",
       "    }\n",
       "\n",
       "    .dataframe tbody tr th {\n",
       "        vertical-align: top;\n",
       "    }\n",
       "\n",
       "    .dataframe thead th {\n",
       "        text-align: right;\n",
       "    }\n",
       "</style>\n",
       "<table border=\"1\" class=\"dataframe\">\n",
       "  <thead>\n",
       "    <tr style=\"text-align: right;\">\n",
       "      <th></th>\n",
       "      <th>O_m</th>\n",
       "      <th>score</th>\n",
       "      <th>mp_score</th>\n",
       "    </tr>\n",
       "  </thead>\n",
       "  <tbody>\n",
       "    <tr>\n",
       "      <th>Pruthvi</th>\n",
       "      <td>25</td>\n",
       "      <td>0.416667</td>\n",
       "      <td>0.5</td>\n",
       "    </tr>\n",
       "    <tr>\n",
       "      <th>Pranam</th>\n",
       "      <td>35</td>\n",
       "      <td>0.583333</td>\n",
       "      <td>0.5</td>\n",
       "    </tr>\n",
       "    <tr>\n",
       "      <th>Pratham</th>\n",
       "      <td>40</td>\n",
       "      <td>0.666667</td>\n",
       "      <td>0.5</td>\n",
       "    </tr>\n",
       "    <tr>\n",
       "      <th>Pravera</th>\n",
       "      <td>60</td>\n",
       "      <td>1.000000</td>\n",
       "      <td>0.5</td>\n",
       "    </tr>\n",
       "  </tbody>\n",
       "</table>\n",
       "</div>"
      ],
      "text/plain": [
       "         O_m     score  mp_score\n",
       "Pruthvi   25  0.416667       0.5\n",
       "Pranam    35  0.583333       0.5\n",
       "Pratham   40  0.666667       0.5\n",
       "Pravera   60  1.000000       0.5"
      ]
     },
     "execution_count": 56,
     "metadata": {},
     "output_type": "execute_result"
    }
   ],
   "source": [
    "print(students_d)\n",
    "students_d.loc[:'Pravera', 'O_m':]"
   ]
  },
  {
   "cell_type": "code",
   "execution_count": 57,
   "metadata": {},
   "outputs": [
    {
     "name": "stdout",
     "output_type": "stream",
     "text": [
      "             Sub  T_m  Min_m  O_m     score  mp_score\n",
      "Pruthvi  Kannada   60     30   25  0.416667       0.5\n",
      "Pranam     Hindi   60     30   35  0.583333       0.5\n",
      "Pratham  English   60     30   40  0.666667       0.5\n",
      "Pravera    Maths   60     30   60  1.000000       0.5\n",
      "Prabu    Science   60     30   55  0.916667       0.5\n"
     ]
    },
    {
     "data": {
      "text/html": [
       "<div>\n",
       "<style scoped>\n",
       "    .dataframe tbody tr th:only-of-type {\n",
       "        vertical-align: middle;\n",
       "    }\n",
       "\n",
       "    .dataframe tbody tr th {\n",
       "        vertical-align: top;\n",
       "    }\n",
       "\n",
       "    .dataframe thead th {\n",
       "        text-align: right;\n",
       "    }\n",
       "</style>\n",
       "<table border=\"1\" class=\"dataframe\">\n",
       "  <thead>\n",
       "    <tr style=\"text-align: right;\">\n",
       "      <th></th>\n",
       "      <th>T_m</th>\n",
       "      <th>Min_m</th>\n",
       "      <th>O_m</th>\n",
       "      <th>score</th>\n",
       "    </tr>\n",
       "  </thead>\n",
       "  <tbody>\n",
       "    <tr>\n",
       "      <th>Pranam</th>\n",
       "      <td>60</td>\n",
       "      <td>30</td>\n",
       "      <td>35</td>\n",
       "      <td>0.583333</td>\n",
       "    </tr>\n",
       "    <tr>\n",
       "      <th>Pratham</th>\n",
       "      <td>60</td>\n",
       "      <td>30</td>\n",
       "      <td>40</td>\n",
       "      <td>0.666667</td>\n",
       "    </tr>\n",
       "    <tr>\n",
       "      <th>Pravera</th>\n",
       "      <td>60</td>\n",
       "      <td>30</td>\n",
       "      <td>60</td>\n",
       "      <td>1.000000</td>\n",
       "    </tr>\n",
       "  </tbody>\n",
       "</table>\n",
       "</div>"
      ],
      "text/plain": [
       "         T_m  Min_m  O_m     score\n",
       "Pranam    60     30   35  0.583333\n",
       "Pratham   60     30   40  0.666667\n",
       "Pravera   60     30   60  1.000000"
      ]
     },
     "execution_count": 57,
     "metadata": {},
     "output_type": "execute_result"
    }
   ],
   "source": [
    "print(students_d)\n",
    "students_d.loc['Pranam':'Pravera', 'T_m':'score']"
   ]
  },
  {
   "cell_type": "code",
   "execution_count": 58,
   "metadata": {},
   "outputs": [
    {
     "ename": "AttributeError",
     "evalue": "'DataFrame' object has no attribute 'ix'",
     "output_type": "error",
     "traceback": [
      "\u001b[1;31m---------------------------------------------------------------------------\u001b[0m",
      "\u001b[1;31mAttributeError\u001b[0m                            Traceback (most recent call last)",
      "\u001b[1;32m~\\AppData\\Local\\Temp\\ipykernel_10812\\3560154211.py\u001b[0m in \u001b[0;36m?\u001b[1;34m()\u001b[0m\n\u001b[1;32m----> 1\u001b[1;33m \u001b[0mstudents_d\u001b[0m\u001b[1;33m.\u001b[0m\u001b[0mix\u001b[0m\u001b[1;33m[\u001b[0m\u001b[1;33m:\u001b[0m\u001b[1;36m3\u001b[0m\u001b[1;33m,\u001b[0m \u001b[1;34m'T_m'\u001b[0m\u001b[1;33m:\u001b[0m\u001b[1;34m'score'\u001b[0m\u001b[1;33m]\u001b[0m\u001b[1;33m\u001b[0m\u001b[1;33m\u001b[0m\u001b[0m\n\u001b[0m",
      "\u001b[1;32mc:\\Users\\abbas\\miniconda3\\envs\\hugging_face\\Lib\\site-packages\\pandas\\core\\generic.py\u001b[0m in \u001b[0;36m?\u001b[1;34m(self, name)\u001b[0m\n\u001b[0;32m   6295\u001b[0m             \u001b[1;32mand\u001b[0m \u001b[0mname\u001b[0m \u001b[1;32mnot\u001b[0m \u001b[1;32min\u001b[0m \u001b[0mself\u001b[0m\u001b[1;33m.\u001b[0m\u001b[0m_accessors\u001b[0m\u001b[1;33m\u001b[0m\u001b[1;33m\u001b[0m\u001b[0m\n\u001b[0;32m   6296\u001b[0m             \u001b[1;32mand\u001b[0m \u001b[0mself\u001b[0m\u001b[1;33m.\u001b[0m\u001b[0m_info_axis\u001b[0m\u001b[1;33m.\u001b[0m\u001b[0m_can_hold_identifiers_and_holds_name\u001b[0m\u001b[1;33m(\u001b[0m\u001b[0mname\u001b[0m\u001b[1;33m)\u001b[0m\u001b[1;33m\u001b[0m\u001b[1;33m\u001b[0m\u001b[0m\n\u001b[0;32m   6297\u001b[0m         ):\n\u001b[0;32m   6298\u001b[0m             \u001b[1;32mreturn\u001b[0m \u001b[0mself\u001b[0m\u001b[1;33m[\u001b[0m\u001b[0mname\u001b[0m\u001b[1;33m]\u001b[0m\u001b[1;33m\u001b[0m\u001b[1;33m\u001b[0m\u001b[0m\n\u001b[1;32m-> 6299\u001b[1;33m         \u001b[1;32mreturn\u001b[0m \u001b[0mobject\u001b[0m\u001b[1;33m.\u001b[0m\u001b[0m__getattribute__\u001b[0m\u001b[1;33m(\u001b[0m\u001b[0mself\u001b[0m\u001b[1;33m,\u001b[0m \u001b[0mname\u001b[0m\u001b[1;33m)\u001b[0m\u001b[1;33m\u001b[0m\u001b[1;33m\u001b[0m\u001b[0m\n\u001b[0m",
      "\u001b[1;31mAttributeError\u001b[0m: 'DataFrame' object has no attribute 'ix'"
     ]
    }
   ],
   "source": [
    "students_d.ix[:3, 'T_m':'score']"
   ]
  },
  {
   "cell_type": "code",
   "execution_count": 59,
   "metadata": {},
   "outputs": [
    {
     "data": {
      "text/html": [
       "<div>\n",
       "<style scoped>\n",
       "    .dataframe tbody tr th:only-of-type {\n",
       "        vertical-align: middle;\n",
       "    }\n",
       "\n",
       "    .dataframe tbody tr th {\n",
       "        vertical-align: top;\n",
       "    }\n",
       "\n",
       "    .dataframe thead th {\n",
       "        text-align: right;\n",
       "    }\n",
       "</style>\n",
       "<table border=\"1\" class=\"dataframe\">\n",
       "  <thead>\n",
       "    <tr style=\"text-align: right;\">\n",
       "      <th></th>\n",
       "      <th>Min_m</th>\n",
       "      <th>O_m</th>\n",
       "    </tr>\n",
       "  </thead>\n",
       "  <tbody>\n",
       "    <tr>\n",
       "      <th>Pranam</th>\n",
       "      <td>30</td>\n",
       "      <td>35</td>\n",
       "    </tr>\n",
       "    <tr>\n",
       "      <th>Pratham</th>\n",
       "      <td>30</td>\n",
       "      <td>40</td>\n",
       "    </tr>\n",
       "    <tr>\n",
       "      <th>Pravera</th>\n",
       "      <td>30</td>\n",
       "      <td>60</td>\n",
       "    </tr>\n",
       "    <tr>\n",
       "      <th>Prabu</th>\n",
       "      <td>30</td>\n",
       "      <td>55</td>\n",
       "    </tr>\n",
       "  </tbody>\n",
       "</table>\n",
       "</div>"
      ],
      "text/plain": [
       "         Min_m  O_m\n",
       "Pranam      30   35\n",
       "Pratham     30   40\n",
       "Pravera     30   60\n",
       "Prabu       30   55"
      ]
     },
     "execution_count": 59,
     "metadata": {},
     "output_type": "execute_result"
    }
   ],
   "source": [
    "students_d.loc[students_d['O_m'] > 30, ['Min_m', 'O_m']]"
   ]
  },
  {
   "cell_type": "code",
   "execution_count": 60,
   "metadata": {},
   "outputs": [
    {
     "name": "stdout",
     "output_type": "stream",
     "text": [
      "             Sub  T_m  Min_m  O_m     score  mp_score\n",
      "Pruthvi  Kannada   60     30   25  0.416667       0.5\n",
      "Pranam     Hindi   60     30   35  0.583333       0.5\n",
      "Pratham  English   60     30   40  0.666667       0.5\n",
      "Pravera    Maths   60     30   60  1.000000       0.5\n",
      "Prabu    Science   60     30   55  0.916667       0.5\n"
     ]
    }
   ],
   "source": [
    "print(students_d)\n",
    "students_d.iloc[0, 3] = 30 "
   ]
  },
  {
   "cell_type": "code",
   "execution_count": 61,
   "metadata": {},
   "outputs": [
    {
     "name": "stdout",
     "output_type": "stream",
     "text": [
      "             Sub  T_m  Min_m  O_m     score  mp_score\n",
      "Pruthvi  Kannada   60     30   30  0.500000       0.5\n",
      "Pranam     Hindi   60     30   35  0.583333       0.5\n",
      "Pratham  English   60     30   40  0.666667       0.5\n",
      "Pravera    Maths   60     30   60  1.000000       0.5\n",
      "Prabu    Science   60     30   55  0.916667       0.5\n"
     ]
    }
   ],
   "source": [
    "students_d['score'] = students_d['O_m'] / students_d['T_m']\n",
    "print(students_d)"
   ]
  }
 ],
 "metadata": {
  "kernelspec": {
   "display_name": "Python 3",
   "language": "python",
   "name": "python3"
  },
  "language_info": {
   "codemirror_mode": {
    "name": "ipython",
    "version": 3
   },
   "file_extension": ".py",
   "mimetype": "text/x-python",
   "name": "python",
   "nbconvert_exporter": "python",
   "pygments_lexer": "ipython3",
   "version": "3.11.9"
  }
 },
 "nbformat": 4,
 "nbformat_minor": 2
}
